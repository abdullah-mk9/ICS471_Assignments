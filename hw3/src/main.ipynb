{
 "cells": [
  {
   "cell_type": "code",
   "execution_count": 2,
   "metadata": {},
   "outputs": [],
   "source": [
    "import torch\n",
    "import torch.nn as nn\n",
    "import torch.nn.functional as F\n",
    "import torch.optim as optim\n",
    "import torch.utils.data as data\n",
    "\n",
    "import pandas as pd\n",
    "\n",
    "import torchvision.transforms as transforms\n",
    "import torchvision.datasets as datasets\n",
    "\n",
    "from sklearn import metrics\n",
    "from sklearn import decomposition\n",
    "from sklearn import manifold\n",
    "import matplotlib.pyplot as plt\n",
    "import numpy as np\n",
    "\n",
    "import copy\n",
    "import random\n",
    "import time"
   ]
  },
  {
   "cell_type": "code",
   "execution_count": 6,
   "metadata": {},
   "outputs": [
    {
     "data": {
      "text/plain": [
       "'[[[148 158 157]\\r\\n  [104 114 113]\\r\\n  [  6  15  14]\\r\\n  ...\\r\\n  [132 149 141]\\r\\n  [120 137 129]\\r\\n  [101 118 108]]\\r\\n\\r\\n [[ 80  89  88]\\r\\n  [ 35  44  43]\\r\\n  [  0   5   4]\\r\\n  ...\\r\\n  [124 141 135]\\r\\n  [125 142 134]\\r\\n  [ 97 114 104]]\\r\\n\\r\\n [[ 39  45  45]\\r\\n  [  0   2   2]\\r\\n  [  0   5   5]\\r\\n  ...\\r\\n  [123 142 138]\\r\\n  [118 137 131]\\r\\n  [ 92 112 103]]\\r\\n\\r\\n ...\\r\\n\\r\\n [[  1   1   0]\\r\\n  [  0   2   0]\\r\\n  [  0   2   1]\\r\\n  ...\\r\\n  [  1   1   1]\\r\\n  [  1   1   1]\\r\\n  [  1   1   1]]\\r\\n\\r\\n [[  2   0   1]\\r\\n  [  2   0   1]\\r\\n  [  2   0   3]\\r\\n  ...\\r\\n  [  1   1   1]\\r\\n  [  1   1   1]\\r\\n  [  1   1   1]]\\r\\n\\r\\n [[  2   0   1]\\r\\n  [  2   0   1]\\r\\n  [  4   0   3]\\r\\n  ...\\r\\n  [  1   1   1]\\r\\n  [  1   1   1]\\r\\n  [  1   1   1]]]'"
      ]
     },
     "execution_count": 6,
     "metadata": {},
     "output_type": "execute_result"
    }
   ],
   "source": [
    "from torch.utils.data import DataLoader\n",
    "\n",
    "# Create an object of the custom dataset class\n",
    "train_data_custom = CustomImageDataset(\"../data/images_npy.npy\", \"../data/labels_npy.npy\")\n",
    "# create a dict of arguments, another way of passing arguments\n",
    "# Used the custom collate_fn\n",
    "train_args = dict(batch_size=2, shuffle=True)\n",
    "# pass the arguments\n",
    "train_dataloader_custom = DataLoader(train_data_custom, **train_args)\n",
    "\n",
    "# Display image and label.\n",
    "train_features, train_labels = next(iter(train_dataloader_custom))\n",
    "img = train_features[0].squeeze()\n",
    "label = train_labels[0]\n",
    "plt.imshow(img, cmap=\"gray\")\n",
    "plt.show()\n",
    "print(f\"Label: {label}\")"
   ]
  }
 ],
 "metadata": {
  "kernelspec": {
   "display_name": "Python 3.10.8 ('venv': venv)",
   "language": "python",
   "name": "python3"
  },
  "language_info": {
   "codemirror_mode": {
    "name": "ipython",
    "version": 3
   },
   "file_extension": ".py",
   "mimetype": "text/x-python",
   "name": "python",
   "nbconvert_exporter": "python",
   "pygments_lexer": "ipython3",
   "version": "3.10.8"
  },
  "orig_nbformat": 4,
  "vscode": {
   "interpreter": {
    "hash": "14a906cd2b612788425adf72e8622cb1b5422c1b977a55292404ff136271038e"
   }
  }
 },
 "nbformat": 4,
 "nbformat_minor": 2
}
