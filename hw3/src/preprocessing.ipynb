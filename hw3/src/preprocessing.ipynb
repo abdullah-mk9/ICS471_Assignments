{
 "cells": [
  {
   "cell_type": "markdown",
   "metadata": {},
   "source": [
    "load data and convert to numpy array"
   ]
  },
  {
   "cell_type": "code",
   "execution_count": 27,
   "metadata": {},
   "outputs": [],
   "source": [
    "from  skimage import io\n",
    "import numpy as np\n",
    "from matplotlib import pyplot as plt\n",
    "import pandas as pd\n",
    "import os\n",
    "import glob\n",
    "from sklearn.model_selection import train_test_split\n",
    "imgs = []\n",
    "labels = []\n",
    "for filename in glob.iglob('../data/FaceDataset/FaceDataset/train/**', recursive=True):\n",
    "    if os.path.isfile(filename): # filter dirs\n",
    "        imgs.append(io.imread(filename))\n",
    "        labels.append(int(filename.split('\\\\')[-2][-3:]))\n",
    "        # Convert the list to a numpy array\n",
    "images_npy = np.array(imgs)\n",
    "faces_train, faces_val = train_test_split  (images_npy, labels, test_size=0.2, random_state=42)\n",
    "np.save(\"../data/faces_train.npy\", images_npy)\n",
    "np.save(\"../data/faces_val.npy\", images_npy)\n",
    "\n",
    "labels_npy = np.array(labels)\n",
    "label_train, label_val = train_test_split  (labels_npy, test_size=0.2, random_state=42)\n",
    "np.save(\"../data/labels_npy.npy\", labels_npy)\n",
    "np.save(\"../data/labels_.npy\", labels_npy)\n"
   ]
  },
  {
   "cell_type": "markdown",
   "metadata": {},
   "source": [
    "Extend Dataset "
   ]
  },
  {
   "cell_type": "code",
   "execution_count": 28,
   "metadata": {},
   "outputs": [],
   "source": [
    "import torch\n",
    "from torch.utils.data import Dataset\n",
    "from torchvision import datasets\n",
    "from torchvision.transforms import ToTensor\n",
    "import matplotlib.pyplot as plt\n",
    "\n",
    "# Create the custom dataset class, as explained before, the dataset class should\n",
    "# have a constructor(__init__), length(__len__(self)) &  get item(__getitem__(self,index))\n",
    "# Do as much processing as you can in the init function since the getitem is called many times \n",
    "class CustomImageDataset(Dataset):\n",
    "    def __init__(self, images_npy, labels_npy):\n",
    "        self.imgs = np.load(images_npy)\n",
    "        self.img_labels = np.load(labels_npy)\n",
    "        \n",
    "    def __len__(self):\n",
    "        return len(self.img_labels)\n",
    "\n",
    "    def __getitem__(self, idx):\n",
    "        image = self.imgs[idx]\n",
    "        label = self.img_labels[idx]\n",
    "        return image, label\n",
    "\n"
   ]
  },
  {
   "cell_type": "code",
   "execution_count": 37,
   "metadata": {},
   "outputs": [
    {
     "data": {
      "text/plain": [
       "(4298, 64, 64, 3)"
      ]
     },
     "execution_count": 37,
     "metadata": {},
     "output_type": "execute_result"
    }
   ],
   "source": [
    "from torch.utils.data import DataLoader\n",
    "\n",
    "# Create an object of the custom dataset class\n",
    "faces = CustomImageDataset(\"../data/images_npy.npy\", \"../data/labels_npy.npy\")\n",
    "train_args = dict(batch_size=2, shuffle=True)\n",
    "train_dataloader_custom = DataLoader(faces, **train_args)\n",
    "\n",
    "\n",
    "\n",
    "\n",
    "\n",
    "# # Display image and label.\n",
    "# train_features, train_labels = next(iter(train_dataloader_custom))\n",
    "# img = train_features[0].squeeze()\n",
    "# label = train_labels[0]\n",
    "# plt.imshow(img, cmap=\"gray\")\n",
    "# plt.show()\n",
    "# print(f\"Label: {label}\")\n"
   ]
  },
  {
   "cell_type": "code",
   "execution_count": null,
   "metadata": {},
   "outputs": [],
   "source": []
  }
 ],
 "metadata": {
  "kernelspec": {
   "display_name": "Python 3.10.8 ('venv': venv)",
   "language": "python",
   "name": "python3"
  },
  "language_info": {
   "codemirror_mode": {
    "name": "ipython",
    "version": 3
   },
   "file_extension": ".py",
   "mimetype": "text/x-python",
   "name": "python",
   "nbconvert_exporter": "python",
   "pygments_lexer": "ipython3",
   "version": "3.10.8"
  },
  "orig_nbformat": 4,
  "vscode": {
   "interpreter": {
    "hash": "14a906cd2b612788425adf72e8622cb1b5422c1b977a55292404ff136271038e"
   }
  }
 },
 "nbformat": 4,
 "nbformat_minor": 2
}
