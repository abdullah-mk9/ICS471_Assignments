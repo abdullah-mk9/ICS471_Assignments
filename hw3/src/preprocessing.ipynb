{
 "cells": [
  {
   "cell_type": "code",
   "execution_count": 27,
   "metadata": {},
   "outputs": [
    {
     "data": {
      "text/html": [
       "<div>\n",
       "<style scoped>\n",
       "    .dataframe tbody tr th:only-of-type {\n",
       "        vertical-align: middle;\n",
       "    }\n",
       "\n",
       "    .dataframe tbody tr th {\n",
       "        vertical-align: top;\n",
       "    }\n",
       "\n",
       "    .dataframe thead th {\n",
       "        text-align: right;\n",
       "    }\n",
       "</style>\n",
       "<table border=\"1\" class=\"dataframe\">\n",
       "  <thead>\n",
       "    <tr style=\"text-align: right;\">\n",
       "      <th></th>\n",
       "      <th>img</th>\n",
       "      <th>label</th>\n",
       "    </tr>\n",
       "  </thead>\n",
       "  <tbody>\n",
       "    <tr>\n",
       "      <th>0</th>\n",
       "      <td>[[[151, 140, 122], [148, 139, 122], [239, 230,...</td>\n",
       "      <td>3</td>\n",
       "    </tr>\n",
       "    <tr>\n",
       "      <th>1</th>\n",
       "      <td>[[[61, 61, 59], [61, 61, 59], [61, 61, 59], [6...</td>\n",
       "      <td>3</td>\n",
       "    </tr>\n",
       "    <tr>\n",
       "      <th>2</th>\n",
       "      <td>[[[125, 118, 92], [129, 122, 96], [125, 119, 9...</td>\n",
       "      <td>3</td>\n",
       "    </tr>\n",
       "    <tr>\n",
       "      <th>3</th>\n",
       "      <td>[[[60, 50, 41], [57, 47, 38], [55, 45, 36], [4...</td>\n",
       "      <td>3</td>\n",
       "    </tr>\n",
       "    <tr>\n",
       "      <th>4</th>\n",
       "      <td>[[[47, 33, 30], [47, 33, 30], [47, 33, 30], [4...</td>\n",
       "      <td>3</td>\n",
       "    </tr>\n",
       "    <tr>\n",
       "      <th>...</th>\n",
       "      <td>...</td>\n",
       "      <td>...</td>\n",
       "    </tr>\n",
       "    <tr>\n",
       "      <th>4293</th>\n",
       "      <td>[[[81, 127, 160], [82, 128, 161], [84, 129, 16...</td>\n",
       "      <td>125</td>\n",
       "    </tr>\n",
       "    <tr>\n",
       "      <th>4294</th>\n",
       "      <td>[[[200, 155, 124], [200, 157, 123], [197, 157,...</td>\n",
       "      <td>125</td>\n",
       "    </tr>\n",
       "    <tr>\n",
       "      <th>4295</th>\n",
       "      <td>[[[1, 3, 2], [0, 2, 1], [0, 2, 1], [0, 1, 0], ...</td>\n",
       "      <td>125</td>\n",
       "    </tr>\n",
       "    <tr>\n",
       "      <th>4296</th>\n",
       "      <td>[[[252, 183, 186], [252, 183, 186], [252, 183,...</td>\n",
       "      <td>125</td>\n",
       "    </tr>\n",
       "    <tr>\n",
       "      <th>4297</th>\n",
       "      <td>[[[0, 0, 0], [0, 0, 0], [0, 0, 0], [0, 0, 0], ...</td>\n",
       "      <td>125</td>\n",
       "    </tr>\n",
       "  </tbody>\n",
       "</table>\n",
       "<p>4298 rows × 2 columns</p>\n",
       "</div>"
      ],
      "text/plain": [
       "                                                    img  label\n",
       "0     [[[151, 140, 122], [148, 139, 122], [239, 230,...      3\n",
       "1     [[[61, 61, 59], [61, 61, 59], [61, 61, 59], [6...      3\n",
       "2     [[[125, 118, 92], [129, 122, 96], [125, 119, 9...      3\n",
       "3     [[[60, 50, 41], [57, 47, 38], [55, 45, 36], [4...      3\n",
       "4     [[[47, 33, 30], [47, 33, 30], [47, 33, 30], [4...      3\n",
       "...                                                 ...    ...\n",
       "4293  [[[81, 127, 160], [82, 128, 161], [84, 129, 16...    125\n",
       "4294  [[[200, 155, 124], [200, 157, 123], [197, 157,...    125\n",
       "4295  [[[1, 3, 2], [0, 2, 1], [0, 2, 1], [0, 1, 0], ...    125\n",
       "4296  [[[252, 183, 186], [252, 183, 186], [252, 183,...    125\n",
       "4297  [[[0, 0, 0], [0, 0, 0], [0, 0, 0], [0, 0, 0], ...    125\n",
       "\n",
       "[4298 rows x 2 columns]"
      ]
     },
     "execution_count": 27,
     "metadata": {},
     "output_type": "execute_result"
    }
   ],
   "source": [
    "from  skimage import io\n",
    "import numpy as np\n",
    "from matplotlib import pyplot as plt\n",
    "import pandas as pd\n",
    "import os\n",
    "import glob\n",
    "df = pd.DataFrame()\n",
    "imgs = []\n",
    "labels = []\n",
    "for filename in glob.iglob('../data/FaceDataset/FaceDataset/train/**', recursive=True):\n",
    "    if os.path.isfile(filename): # filter dirs\n",
    "        imgs.append(io.imread(filename))\n",
    "        labels.append(int(filename.split('\\\\')[-2][-3:]))\n",
    "\n",
    "df['img'] = imgs\n",
    "df['label'] = labels\n",
    "df"
   ]
  },
  {
   "cell_type": "markdown",
   "metadata": {},
   "source": [
    "divide into train val"
   ]
  },
  {
   "cell_type": "code",
   "execution_count": 31,
   "metadata": {},
   "outputs": [],
   "source": [
    "# from sklearn.model_selection import train_test_split\n",
    "# X= df['img']\n",
    "# y= df['label']\n",
    "\n",
    "# X_train, X_test, y_train, y_test = train_test_split(X,y, test_size=0.2, random_state=42, stratify = y)\n",
    "# X_test\n",
    "\n",
    "# train_df = pd.DataFrame()\n",
    "# train_df['img'] = X_train\n",
    "# train_df['label'] = y_train\n",
    "# train_df.to_csv('../data/train.csv', index=False)\n",
    "\n",
    "# test_df = pd.DataFrame()\n",
    "# test_df['img'] = X_test\n",
    "# test_df['label'] = y_test\n",
    "# test_df.to_csv('../data/test.csv', index=False)\n",
    "\n"
   ]
  }
 ],
 "metadata": {
  "kernelspec": {
   "display_name": "Python 3.10.4 ('venv': venv)",
   "language": "python",
   "name": "python3"
  },
  "language_info": {
   "codemirror_mode": {
    "name": "ipython",
    "version": 3
   },
   "file_extension": ".py",
   "mimetype": "text/x-python",
   "name": "python",
   "nbconvert_exporter": "python",
   "pygments_lexer": "ipython3",
   "version": "3.10.4"
  },
  "orig_nbformat": 4,
  "vscode": {
   "interpreter": {
    "hash": "7037ec29b621de18a3396a0455ec45ad55ce896f0aa235683271d94d3867e1de"
   }
  }
 },
 "nbformat": 4,
 "nbformat_minor": 2
}
