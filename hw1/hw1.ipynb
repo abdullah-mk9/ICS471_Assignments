{
  "cells": [
    {
      "cell_type": "markdown",
      "metadata": {
        "colab_type": "text",
        "id": "IV7zpbJdH06t"
      },
      "source": [
        "# Homework 1"
      ]
    },
    {
      "cell_type": "markdown",
      "metadata": {
        "colab_type": "text",
        "id": "oPIebD-YH06v"
      },
      "source": [
        "## 1. Introduction"
      ]
    },
    {
      "cell_type": "markdown",
      "metadata": {
        "colab_type": "text",
        "id": "G9fvX5pOH06w"
      },
      "source": [
        "Throughout this course, we will heavily rely on the NumPy and PyTorch libraries.\n",
        "\n",
        "The first library of interest is NumPy.\n",
        "\n",
        "> NumPy is the fundamental package for scientific computing with Python. It contains among other things:\n",
        ">\n",
        "> - a powerful N-dimensional array object\n",
        "> - sophisticated (broadcasting) functions\n",
        "> - tools for integrating C/C++ and Fortran code\n",
        "> - useful linear algebra, Fourier transform, and random number capabilities\n",
        "> \n",
        "> Besides its obvious scientific uses, NumPy can also be used as an efficient multi-dimensional container of generic data. Arbitrary data-types can be defined. This allows NumPy to seamlessly and speedily integrate with a wide variety of databases.\n",
        ">\n",
        "> —*[About NumPy](http://www.numpy.org/)*\n",
        "\n",
        "The second library of interest is PyTorch.\n",
        "> PyTorch is an open source deep learning platform that provides a seamless path from research prototyping to production deployment.\n",
        "> - *Hybrid Front-End:* A new hybrid front-end seamlessly transitions between eager mode and graph mode to provide both flexibility and speed.\n",
        "> - *Distributed Training:* Scalable distributed training and performance optimization in research and production is enabled by the torch.distributed backend.\n",
        "> - *Python-First:* Deep integration into Python allows popular libraries and packages to be used for easily writing neural network layers in Python.\n",
        "> - *Tools & Libraries:* A rich ecosystem of tools and libraries extends PyTorch and supports development in computer vision, NLP and more.\n",
        ">\n",
        "> —*[About PyTorch](https://pytorch.org/)*\n",
        "\n",
        "One consideration as to why we are using PyTorch is most succinctly summerized by Andrej Karpathy, Director of Artificial Intelligence and Autopilot Vision at Tesla. The technical summary can be found [here](https://twitter.com/karpathy/status/868178954032513024?lang=en)."
      ]
    },
    {
      "cell_type": "code",
      "execution_count": 1,
      "metadata": {
        "colab": {},
        "colab_type": "code",
        "id": "vtRTUPEbH06y"
      },
      "outputs": [],
      "source": [
        "import numpy as np\n",
        "import os\n",
        "import time\n",
        "import timeit\n",
        "import torch\n",
        "import math"
      ]
    },
    {
      "cell_type": "markdown",
      "metadata": {
        "colab_type": "text",
        "id": "Hls06e36H063"
      },
      "source": [
        "---"
      ]
    },
    {
      "cell_type": "markdown",
      "metadata": {
        "colab_type": "text",
        "id": "vSIlQofaH064"
      },
      "source": [
        "## 2. Vectorization\n",
        "\n",
        "Lists are a foundational data structure in Python, allowing us to create simple and complex algorithms to solve problems. However, in mathematics and particularly in linear algebra, we work with vectors and matrices to model problems and create statistical solutions. Through these exercises, we will begin introducing you to how to think more mathematically through the use of NumPy by starting with a process known as vectorization.\n",
        "\n",
        "Index chasing is a very valuable skill, and certainly one you will need in this course, but mathematical problems often have simpler and more efficient representations that use vectors. The process of converting from an implimentation that uses indicies to one that uses vectors is known as vectorization. Once vectorized, the resulting implimentation often yields to the user faster and more readable code than before.\n",
        "\n",
        "In the following problems, we will ask you to practice reading mathematical expressions and deduce their vectorized equivalent along with their implimentation in Python. You will use the NumPy array object as the Python equivalent to a vector, and in later sections you will work with sets of vectors known as matrices. You have to replace the loop with numpy functions while maintaining its functionality."
      ]
    },
    {
      "cell_type": "markdown",
      "metadata": {
        "colab_type": "text",
        "id": "SZSA0CaCH065"
      },
      "source": [
        "---"
      ]
    },
    {
      "cell_type": "markdown",
      "metadata": {
        "colab_type": "text",
        "id": "Z7fWdFryH065"
      },
      "source": [
        "### 2.1 Dot Product\n",
        "\n",
        "In this task, you will implement the dot product function for numpy arrays.\n",
        "\n",
        "The dot product (also known as the scalar product or inner product) is the linear combination of the n real components of two vectors.\n",
        "\n",
        "$$x \\cdot y = x_1 y_1 + x_2 y_2 + \\cdots + x_n y_n$$\n",
        "\n",
        "**Your Task**: Implement the function `dot`."
      ]
    },
    {
      "cell_type": "code",
      "execution_count": 2,
      "metadata": {
        "colab": {},
        "colab_type": "code",
        "id": "Beiu1lXpH066"
      },
      "outputs": [],
      "source": [
        "def inefficient_dot(x, y):\n",
        "    \"\"\"\n",
        "    Inefficient dot product of two arrays.\n",
        "\n",
        "    Parameters: \n",
        "    x (numpy.ndarray): 1-dimensional numpy array.\n",
        "    y (numpy.ndarray): 1-dimensional numpy array.\n",
        "\n",
        "    Returns: \n",
        "    numpy.int64: scalar quantity.\n",
        "    \"\"\"    \n",
        "    assert(len(x) == len(y))\n",
        "    \n",
        "    result = 0\n",
        "    for i in range(len(x)):\n",
        "        result += x[i]*y[i]\n",
        "        \n",
        "    return result"
      ]
    },
    {
      "cell_type": "code",
      "execution_count": 3,
      "metadata": {
        "colab": {},
        "colab_type": "code",
        "id": "g73n4_LrH06_"
      },
      "outputs": [],
      "source": [
        "def dot(x, y):\n",
        "    \"\"\"\n",
        "    Dot product of two arrays.\n",
        "\n",
        "    Parameters: \n",
        "    x (numpy.ndarray): 1-dimensional numpy array.\n",
        "    y (numpy.ndarray): 1-dimensional numpy array.\n",
        "\n",
        "    Returns: \n",
        "    numpy.int64: scalar quantity.\n",
        "    \"\"\"\n",
        "\n",
        "    ndot = np.dot(x,y)\n",
        "    \n",
        "    return ndot"
      ]
    },
    {
      "cell_type": "markdown",
      "metadata": {
        "colab_type": "text",
        "id": "9hdvtuFIH07E"
      },
      "source": [
        "#### Test Example:"
      ]
    },
    {
      "cell_type": "code",
      "execution_count": 4,
      "metadata": {
        "colab": {},
        "colab_type": "code",
        "id": "XTvtjaMQH07F"
      },
      "outputs": [
        {
          "name": "stdout",
          "output_type": "stream",
          "text": [
            "Inefficient dot product = 7082791\n",
            "Computation time = 0.0ms\n",
            "\n",
            "Efficient dot product = 7082791\n",
            "Computation time = 0.0ms\n"
          ]
        }
      ],
      "source": [
        "np.random.seed(0)\n",
        "X = np.random.randint(-1000, 1000, size=3000)\n",
        "Y = np.random.randint(-1000, 1000, size=3000)\n",
        "\n",
        "tic = time.process_time() \n",
        "idot = inefficient_dot(X,Y)\n",
        "toc = time.process_time() \n",
        "\n",
        "print(\"Inefficient dot product = \"+ str(idot)); \n",
        "print(\"Computation time = \" + str(1000*(toc - tic )) + \"ms\") \n",
        "\n",
        "n_tic = time.process_time() \n",
        "ndot = dot(X,Y) \n",
        "n_toc = time.process_time() \n",
        "print(\"\\nEfficient dot product = \"+str(ndot)) \n",
        "print(\"Computation time = \"+str(1000*(n_toc - n_tic ))+\"ms\") "
      ]
    },
    {
      "cell_type": "markdown",
      "metadata": {
        "colab_type": "text",
        "id": "-pKWTnw2xtP9"
      },
      "source": [
        "**Expected Output**: \n",
        "<table style = \"align:40%\">\n",
        "    <tr>\n",
        "        <td style=\"text-align:left;\"><tt><b> dot(X,Y) </b></tt></td> \n",
        "        <td style=\"text-align:left;\"><tt> 7082791 </tt></td> \n",
        "    </tr>\n",
        "</table>"
      ]
    },
    {
      "cell_type": "markdown",
      "metadata": {
        "colab_type": "text",
        "id": "l_tvgaObH07M"
      },
      "source": [
        "---"
      ]
    },
    {
      "cell_type": "markdown",
      "metadata": {
        "colab_type": "text",
        "id": "HHKeI_BQH07N"
      },
      "source": [
        "### 2.2 Outer Product\n",
        "\n",
        "In this task, you will implement the outer product function for numpy arrays.\n",
        "\n",
        "The outer product (also known as the tensor product) of vectors x and y is defined as\n",
        "\n",
        "$$\n",
        "x \\otimes y =\n",
        "\\begin{bmatrix}\n",
        "x_1 y_1 & x_1 y_2 & … & x_1 y_n\\\\\n",
        "x_2 y_1 & x_2 y_2 & … & x_2 y_n\\\\\n",
        "⋮ & ⋮ & ⋱ & ⋮ \\\\\n",
        "x_m y_1 & x_m y_2 & … & x_m y_n\n",
        "\\end{bmatrix}\n",
        "$$\n",
        "\n",
        "**Your Task**: Implement the function `outer`.\n"
      ]
    },
    {
      "cell_type": "code",
      "execution_count": 5,
      "metadata": {
        "colab": {},
        "colab_type": "code",
        "id": "AN-ZfyZBH07O"
      },
      "outputs": [],
      "source": [
        "def inefficient_outer(x, y):\n",
        "    \"\"\"\n",
        "    Inefficiently compute the outer product of two vectors.\n",
        "\n",
        "    Parameters: \n",
        "    x (numpy.ndarray): 1-dimensional numpy array.\n",
        "    y (numpy.ndarray): 1-dimensional numpy array.\n",
        "\n",
        "    Returns: \n",
        "    numpy.ndarray: 2-dimensional numpy array.\n",
        "    \"\"\"\n",
        "    result = np.zeros((len(x), len(y))) \n",
        "    for i in range(len(x)):\n",
        "        for j in range(len(y)):\n",
        "            result[i, j] = x[i]*y[j]\n",
        "    \n",
        "    return result"
      ]
    },
    {
      "cell_type": "code",
      "execution_count": 6,
      "metadata": {
        "colab": {},
        "colab_type": "code",
        "id": "UzCD5hygH07U"
      },
      "outputs": [],
      "source": [
        "def outer(x, y):\n",
        "    \"\"\"\n",
        "    Compute the outer product of two vectors.\n",
        "\n",
        "    Parameters: \n",
        "    x (numpy.ndarray): 1-dimensional numpy array.\n",
        "    y (numpy.ndarray): 1-dimensional numpy array.\n",
        "\n",
        "    Returns: \n",
        "    numpy.ndarray: 2-dimensional numpy array.\n",
        "    \"\"\"\n",
        "    nouter = np.tensordot(x,y, axes=0)\n",
        "    return nouter"
      ]
    },
    {
      "cell_type": "markdown",
      "metadata": {
        "colab_type": "text",
        "id": "bF2wlQevH07Y"
      },
      "source": [
        "#### Test Example:"
      ]
    },
    {
      "cell_type": "code",
      "execution_count": 7,
      "metadata": {
        "colab": {},
        "colab_type": "code",
        "id": "LtgE56FHH07Z"
      },
      "outputs": [
        {
          "name": "stdout",
          "output_type": "stream",
          "text": [
            "Inefficient Outer Product = \n",
            "[[  59092. -144096.  136512. ...  -53088.  -86268.   53404.]\n",
            " [  82467. -201096.  190512. ...  -74088. -120393.   74529.]\n",
            " [-122111.  297768. -282096. ...  109704.  178269. -110357.]\n",
            " ...\n",
            " [-144551.  352488. -333936. ...  129864.  211029. -130637.]\n",
            " [-179707.  438216. -415152. ...  161448.  262353. -162409.]\n",
            " [  88825. -216600.  205200. ...  -79800. -129675.   80275.]]\n",
            "Computation time = 3296.875ms\n",
            "Efficient Outer Product = \n",
            "[[  59092 -144096  136512 ...  -53088  -86268   53404]\n",
            " [  82467 -201096  190512 ...  -74088 -120393   74529]\n",
            " [-122111  297768 -282096 ...  109704  178269 -110357]\n",
            " ...\n",
            " [-144551  352488 -333936 ...  129864  211029 -130637]\n",
            " [-179707  438216 -415152 ...  161448  262353 -162409]\n",
            " [  88825 -216600  205200 ...  -79800 -129675   80275]]\n",
            "Computation time = 31.25ms\n"
          ]
        }
      ],
      "source": [
        "np.random.seed(0)\n",
        "X = np.random.randint(-1000, 1000, size=3000)\n",
        "Y = np.random.randint(-1000, 1000, size=3000)\n",
        "tic = time.process_time() \n",
        "iouter = inefficient_outer(X,Y)\n",
        "toc = time.process_time() \n",
        "print(\"Inefficient Outer Product = \\n\"+ str(iouter)); \n",
        "print(\"Computation time = \"+str(1000*(toc - tic ))+\"ms\") \n",
        "n_tic = time.process_time() \n",
        "nouter = outer(X,Y)\n",
        "n_toc = time.process_time() \n",
        "print(\"Efficient Outer Product = \\n\"+ str(nouter)); \n",
        "print(\"Computation time = \"+str(1000*(n_toc - n_tic ))+\"ms\") "
      ]
    },
    {
      "cell_type": "markdown",
      "metadata": {
        "colab_type": "text",
        "id": "DlPkNxCgx5e8"
      },
      "source": [
        "ِ**Expected Output**: \n",
        "<table style = \"align:40%\">\n",
        "    <tr>\n",
        "        <td style=\"text-align:left;\"><tt><b> outer(X,Y) </b></tt></td> \n",
        "        <td style=\"text-align:left;\"><tt> \n",
        "            [[&nbsp;&nbsp;59092&nbsp;-144096&nbsp;&nbsp;136512&nbsp;...&nbsp;&nbsp;-53088&nbsp;&nbsp;-86268&nbsp;&nbsp;&nbsp;53404] <br>\n",
        "            &nbsp;[&nbsp;&nbsp;82467&nbsp;-201096&nbsp;&nbsp;190512&nbsp;...&nbsp;&nbsp;-74088&nbsp;-120393&nbsp;&nbsp;&nbsp;74529] <br>\n",
        "            &nbsp;[-122111&nbsp;&nbsp;297768&nbsp;-282096&nbsp;...&nbsp;&nbsp;109704&nbsp;&nbsp;178269&nbsp;-110357] <br>\n",
        "            &nbsp;... <br>\n",
        "            &nbsp;[-144551&nbsp;&nbsp;352488&nbsp;-333936&nbsp;...&nbsp;&nbsp;129864&nbsp;&nbsp;211029&nbsp;-130637] <br>\n",
        "            &nbsp;[-179707&nbsp;&nbsp;438216&nbsp;-415152&nbsp;...&nbsp;&nbsp;161448&nbsp;&nbsp;262353&nbsp;-162409] <br>\n",
        "            &nbsp;[&nbsp;&nbsp;88825&nbsp;-216600&nbsp;&nbsp;205200&nbsp;...&nbsp;&nbsp;-79800&nbsp;-129675&nbsp;&nbsp;&nbsp;80275]] <br>\n",
        "        </tt></td> \n",
        "    </tr>\n",
        "</table>"
      ]
    },
    {
      "cell_type": "markdown",
      "metadata": {
        "colab_type": "text",
        "id": "h94OvR0zH07e"
      },
      "source": [
        "---"
      ]
    },
    {
      "cell_type": "markdown",
      "metadata": {
        "colab_type": "text",
        "id": "vl9ieKygH07f"
      },
      "source": [
        "### 2.3 Hadamard Product\n",
        "\n",
        "In this task, you will implement the Hadamard product function, `multiply`, for numpy arrays.\n",
        "\n",
        "The Hadamard product (also known as the Schur product or entrywise product) of vectors x and y is defined as\n",
        "\n",
        "$$\n",
        "x \\circ y =\n",
        "\\begin{bmatrix}\n",
        "x_{1} y_{1} & x_{2} y_{2} & … & x_{n} y_{n}\n",
        "\\end{bmatrix}\n",
        "$$\n",
        "\n",
        "**Your Task**: Implement the function `multiply`."
      ]
    },
    {
      "cell_type": "code",
      "execution_count": 8,
      "metadata": {
        "colab": {},
        "colab_type": "code",
        "id": "hU0KFBUlH07f"
      },
      "outputs": [],
      "source": [
        "def inefficient_multiply(x, y):\n",
        "    \"\"\"\n",
        "    Inefficiently multiply arguments element-wise.\n",
        "\n",
        "    Parameters: \n",
        "    x (numpy.ndarray): 1-dimensional numpy array.\n",
        "    y (numpy.ndarray): 1-dimensional numpy array.\n",
        "\n",
        "    Returns: \n",
        "    numpy.ndarray: 1-dimensional numpy array.\n",
        "    \"\"\"\n",
        "    assert(len(x) == len(y))\n",
        "    \n",
        "    result = np.zeros(len(x))\n",
        "    for i in range(len(x)):\n",
        "        result[i] = x[i]*y[i]\n",
        "    \n",
        "    return result"
      ]
    },
    {
      "cell_type": "code",
      "execution_count": 9,
      "metadata": {
        "colab": {},
        "colab_type": "code",
        "id": "LJqKp54LH07i"
      },
      "outputs": [],
      "source": [
        "def multiply(x, y):\n",
        "    \"\"\"\n",
        "    Multiply arguments element-wise.\n",
        "\n",
        "    Parameters: \n",
        "    x (numpy.ndarray): 1-dimensional numpy array.\n",
        "    y (numpy.ndarray): 1-dimensional numpy array.\n",
        "\n",
        "    Returns: \n",
        "    numpy.ndarray: 1-dimensional numpy array.\n",
        "    \"\"\"\n",
        "    \n",
        "    nmultiply = np.multiply(x, y)\n",
        "\n",
        "    return nmultiply"
      ]
    },
    {
      "cell_type": "markdown",
      "metadata": {
        "colab_type": "text",
        "id": "M5ZhcneCH07p"
      },
      "source": [
        "#### Test Example:"
      ]
    },
    {
      "cell_type": "code",
      "execution_count": 10,
      "metadata": {
        "colab": {},
        "colab_type": "code",
        "id": "tSYfxR7IH07p"
      },
      "outputs": [
        {
          "name": "stdout",
          "output_type": "stream",
          "text": [
            "Inefficient Element wise Product =\n",
            " [  59092. -201096. -282096. ...  129864.  262353.   80275.]\n",
            "Computation time = 0.0ms\n",
            "Efficient Element wise Product =\n",
            " [  59092 -201096 -282096 ...  129864  262353   80275]\n",
            "Computation time = 0.0ms\n"
          ]
        }
      ],
      "source": [
        "np.random.seed(0)\n",
        "X = np.random.randint(-1000, 1000, size=3000)\n",
        "Y = np.random.randint(-1000, 1000, size=3000)\n",
        "\n",
        "tic = time.process_time() \n",
        "imultiply = inefficient_multiply(X, Y) \n",
        "toc = time.process_time() \n",
        "print(\"Inefficient Element wise Product =\\n \"+ str(imultiply)); \n",
        "print(\"Computation time = \"+str(1000*(toc - tic ))+\"ms\") \n",
        "\n",
        "n_tic = time.process_time() \n",
        "nmultiply = multiply(X, Y) \n",
        "n_toc = time.process_time() \n",
        "print(\"Efficient Element wise Product =\\n \"+ str(nmultiply)); \n",
        "print(\"Computation time = \"+str(1000*(n_toc - n_tic ))+\"ms\") \n"
      ]
    },
    {
      "cell_type": "markdown",
      "metadata": {
        "colab_type": "text",
        "id": "LDxjoB0gyNLF"
      },
      "source": [
        "**Expected Output**: \n",
        "<table style = \"align:40%\">\n",
        "    <tr>\n",
        "        <td style=\"text-align:left;\"><tt><b> multiply(X,Y) </b></tt></td> \n",
        "        <td style=\"text-align:left;\"><tt>\n",
        "            [&nbsp;&nbsp;59092&nbsp;-201096&nbsp;-282096&nbsp;...&nbsp;&nbsp;129864&nbsp;&nbsp;262353&nbsp;&nbsp;&nbsp;80275]\n",
        "        </tt></td> \n",
        "    </tr>\n",
        "</table>"
      ]
    },
    {
      "cell_type": "markdown",
      "metadata": {
        "colab_type": "text",
        "id": "pkvDbNcwH07t"
      },
      "source": [
        "---"
      ]
    },
    {
      "cell_type": "markdown",
      "metadata": {
        "colab_type": "text",
        "id": "2YVaIHZfH07u"
      },
      "source": [
        "### 2.4 Sum-Product\n",
        "In this task, you will implement the sum-product function for numpy arrays.\n",
        "\n",
        "The sum-product of vectors x and y, each with n real component, is defined as \n",
        "\n",
        "$$\n",
        "f(x, y) = \n",
        "{\n",
        "\\begin{bmatrix}\n",
        "1\\\\\n",
        "1\\\\\n",
        "⋮\\\\\n",
        "1\n",
        "\\end{bmatrix}^{\\;T}\n",
        "%\n",
        "\\begin{bmatrix}\n",
        "x_1 y_1 & x_1 y_2 & … & x_1 y_n\\\\\n",
        "x_2 y_1 & x_2 y_2 & … & x_2 y_n\\\\\n",
        "⋮ & ⋮ & ⋱ & ⋮ \\\\\n",
        "x_m y_1 & x_m y_2 & … & x_m y_n\n",
        "\\end{bmatrix}\n",
        "%\n",
        "\\begin{bmatrix}\n",
        "1\\\\\n",
        "1\\\\\n",
        "⋮\\\\\n",
        "1\n",
        "\\end{bmatrix}\n",
        "} = \n",
        "\\displaystyle\\sum_{i=1}^{n} \\displaystyle\\sum_{j=1}^{n} x_i \\cdot y_j\n",
        "$$\n",
        "\n",
        "**Your Task**: Implement the function `sumproduct`.\n"
      ]
    },
    {
      "cell_type": "code",
      "execution_count": 11,
      "metadata": {
        "colab": {},
        "colab_type": "code",
        "id": "MzRYgBWzH07u"
      },
      "outputs": [],
      "source": [
        "def inefficient_sumproduct(x, y):\n",
        "    \"\"\"\n",
        "    Inefficiently sum over all the dimensions of the outer product \n",
        "    of two vectors.\n",
        "\n",
        "    Parameters: \n",
        "    x (numpy.ndarray): 1-dimensional numpy array.\n",
        "    y (numpy.ndarray): 1-dimensional numpy array.\n",
        "\n",
        "    Returns: \n",
        "    numpy.int64: scalar quantity.\n",
        "    \"\"\"\n",
        "    assert(len(x) == len(y))\n",
        "    \n",
        "    result = 0\n",
        "    for i in range(len(x)):\n",
        "        for j in range(len(y)):\n",
        "            result += x[i] * y[j]\n",
        "            \n",
        "    return result"
      ]
    },
    {
      "cell_type": "code",
      "execution_count": 12,
      "metadata": {
        "colab": {},
        "colab_type": "code",
        "id": "CT3Cxe0aH07x"
      },
      "outputs": [],
      "source": [
        "def sumproduct(x, y):\n",
        "    \"\"\"\n",
        "    Sum over all the dimensions of the outer product of two vectors.\n",
        "\n",
        "    Parameters: \n",
        "    x (numpy.ndarray): 1-dimensional numpy array.\n",
        "    y (numpy.ndarray): 1-dimensional numpy array.\n",
        "\n",
        "    Returns: \n",
        "    numpy.int64: scalar quantity.\n",
        "    \"\"\"\n",
        "    sum_pr = np.sum(outer(x,y))\n",
        "\n",
        "    return sum_pr"
      ]
    },
    {
      "cell_type": "markdown",
      "metadata": {
        "colab_type": "text",
        "id": "EtiP9awvH073"
      },
      "source": [
        "#### Test Example:"
      ]
    },
    {
      "cell_type": "code",
      "execution_count": 13,
      "metadata": {
        "colab": {},
        "colab_type": "code",
        "id": "tXk06QKJH074"
      },
      "outputs": [
        {
          "name": "stdout",
          "output_type": "stream",
          "text": [
            "Inefficient Sum Product = 265421520\n",
            "Computation time = 2046.875ms\n",
            "Efficient Sum Product = 265421520\n",
            "Computation time = 46.875ms\n"
          ]
        }
      ],
      "source": [
        "np.random.seed(0)\n",
        "X = np.random.randint(-1000, 1000, size=3000)\n",
        "Y = np.random.randint(-1000, 1000, size=3000)\n",
        "\n",
        "tic = time.process_time() \n",
        "isumproduct = inefficient_sumproduct(X, Y) \n",
        "toc = time.process_time() \n",
        "print(\"Inefficient Sum Product = \"+ str(isumproduct)); \n",
        "print(\"Computation time = \"+str(1000*(toc - tic ))+\"ms\") \n",
        "\n",
        "n_tic = time.process_time() \n",
        "nsumproduct = sumproduct(X, Y) \n",
        "n_toc = time.process_time() \n",
        "print(\"Efficient Sum Product = \"+ str(nsumproduct)); \n",
        "print(\"Computation time = \"+str(1000*(n_toc - n_tic ))+\"ms\") \n",
        "\n"
      ]
    },
    {
      "cell_type": "markdown",
      "metadata": {
        "colab_type": "text",
        "id": "fhYzdXBgyXmo"
      },
      "source": [
        "**Expected Output**: \n",
        "<table style = \"align:40%\">\n",
        "    <tr>\n",
        "        <td style=\"text-align:left;\"><tt><b> sumproduct(X,Y) </b></tt></td> \n",
        "        <td style=\"text-align:left;\"><tt> 265421520 </tt></td> \n",
        "    </tr>\n",
        "</table>"
      ]
    },
    {
      "cell_type": "markdown",
      "metadata": {
        "colab_type": "text",
        "id": "6pWYdeKoH079"
      },
      "source": [
        "---"
      ]
    },
    {
      "cell_type": "markdown",
      "metadata": {
        "colab_type": "text",
        "id": "QPhcXT5qH07-"
      },
      "source": [
        "### 2.5 ReLU\n",
        "\n",
        "In this task, you will implement the ReLU activation function for numpy arrays.\n",
        "\n",
        "The ReLU activation (also known as the rectifier or rectified linear unit) matrix Z resulting from applying the ReLU function to matrix X is defined such that for $X,Z \\in M_{m \\times n} (\\mathbb{R})$, \n",
        "\n",
        "$$Z = {\\tt ReLU}(X) \\implies \\begin{cases}z_{ij} = x_{ij} & {if\\space}x_{ij}>0\\\\z_{ij} = 0&{otherwise.}\\end{cases}$$\n",
        "\n",
        "\n",
        "For reference, it is common to use the notation $X = (x_{ij})$ and $Z = (z_{ij})$.\n",
        "\n",
        "**Your Task:** Implement the function `ReLU`."
      ]
    },
    {
      "cell_type": "code",
      "execution_count": 14,
      "metadata": {
        "colab": {},
        "colab_type": "code",
        "id": "_rnNRsZaH07_"
      },
      "outputs": [],
      "source": [
        "def inefficient_ReLU(x):\n",
        "    \"\"\"\n",
        "    Inefficiently applies the rectified linear unit function \n",
        "    element-wise.\n",
        "\n",
        "    Parameters: \n",
        "    x (numpy.ndarray): 2-dimensional numpy array.\n",
        "\n",
        "    Returns: \n",
        "    numpy.ndarray: 2-dimensional numpy array.\n",
        "    \"\"\"\n",
        "    result = np.copy(x)\n",
        "    for i in range(x.shape[0]):\n",
        "        for j in range(x.shape[1]):\n",
        "            if x[i][j] < 0:\n",
        "                result[i][j] = 0\n",
        "                \n",
        "    return result"
      ]
    },
    {
      "cell_type": "code",
      "execution_count": 15,
      "metadata": {
        "colab": {},
        "colab_type": "code",
        "id": "J7ttVJk_H08C"
      },
      "outputs": [],
      "source": [
        "def ReLU(x):\n",
        "    \"\"\"\n",
        "    Applies the rectified linear unit function element-wise.\n",
        "\n",
        "    Parameters: \n",
        "    x (numpy.ndarray): 2-dimensional numpy array.\n",
        "\n",
        "    Returns: \n",
        "    numpy.ndarray: 2-dimensional numpy array.\n",
        "    \"\"\"\n",
        "    relu = np.maximum(0,x)\n",
        "\n",
        "    return relu\n",
        "    "
      ]
    },
    {
      "cell_type": "markdown",
      "metadata": {
        "colab_type": "text",
        "id": "0D5Ep1n4H08R"
      },
      "source": [
        "#### Test Example:"
      ]
    },
    {
      "cell_type": "code",
      "execution_count": 16,
      "metadata": {
        "colab": {},
        "colab_type": "code",
        "id": "HMJEeYFMH08S"
      },
      "outputs": [
        {
          "name": "stdout",
          "output_type": "stream",
          "text": [
            "Inefficient ReLu =\n",
            " [[  0   0 653 ... 773 961   0]\n",
            " [  0 456   0 ... 168 273   0]\n",
            " [936 475   0 ... 408   0   0]\n",
            " ...\n",
            " [  0 396 457 ... 646   0   0]\n",
            " [645 943   0 ... 863   0 790]\n",
            " [641   0 379 ... 347   0   0]]\n",
            "Computation time = 2750.0ms\n",
            "Efficient ReLu =\n",
            " [[  0   0 653 ... 773 961   0]\n",
            " [  0 456   0 ... 168 273   0]\n",
            " [936 475   0 ... 408   0   0]\n",
            " ...\n",
            " [  0 396 457 ... 646   0   0]\n",
            " [645 943   0 ... 863   0 790]\n",
            " [641   0 379 ... 347   0   0]]\n",
            "Computation time = 15.625ms\n"
          ]
        }
      ],
      "source": [
        "np.random.seed(0)\n",
        "X = np.random.randint(-1000, 1000, size=(3000,3000))\n",
        "\n",
        "\n",
        "tic = time.process_time() \n",
        "irelu = inefficient_ReLU(X) \n",
        "toc = time.process_time() \n",
        "print(\"Inefficient ReLu =\\n \"+ str(irelu)); \n",
        "print(\"Computation time = \"+str(1000*(toc - tic ))+\"ms\") \n",
        "\n",
        "n_tic = time.process_time() \n",
        "nrelu = ReLU(X) \n",
        "n_toc = time.process_time() \n",
        "print(\"Efficient ReLu =\\n \"+ str(nrelu)); \n",
        "print(\"Computation time = \"+str(1000*(n_toc - n_tic ))+\"ms\") "
      ]
    },
    {
      "cell_type": "markdown",
      "metadata": {
        "colab_type": "text",
        "id": "d82kD1Pkybyb"
      },
      "source": [
        "**Expected Output**: \n",
        "<table style = \"align:40%\">\n",
        "    <tr>\n",
        "        <td style=\"text-align:left;\"><tt><b> ReLU(X) </b></tt></td> \n",
        "        <td style=\"text-align:left;\"><tt>\n",
        "            [[&nbsp;&nbsp;0&nbsp;&nbsp;&nbsp;0&nbsp;653&nbsp;...&nbsp;773&nbsp;961&nbsp;&nbsp;&nbsp;0] <br>\n",
        "&nbsp;[&nbsp;&nbsp;0&nbsp;456&nbsp;&nbsp;&nbsp;0&nbsp;...&nbsp;168&nbsp;273&nbsp;&nbsp;&nbsp;0] <br>\n",
        "&nbsp;[936&nbsp;475&nbsp;&nbsp;&nbsp;0&nbsp;...&nbsp;408&nbsp;&nbsp;&nbsp;0&nbsp;&nbsp;&nbsp;0] <br>\n",
        "&nbsp;... <br>\n",
        "&nbsp;[&nbsp;&nbsp;0&nbsp;396&nbsp;457&nbsp;...&nbsp;646&nbsp;&nbsp;&nbsp;0&nbsp;&nbsp;&nbsp;0] <br>\n",
        "&nbsp;[645&nbsp;943&nbsp;&nbsp;&nbsp;0&nbsp;...&nbsp;863&nbsp;&nbsp;&nbsp;0&nbsp;790] <br>\n",
        "&nbsp;[641&nbsp;&nbsp;&nbsp;0&nbsp;379&nbsp;...&nbsp;347&nbsp;&nbsp;&nbsp;0&nbsp;&nbsp;&nbsp;0]]\n",
        "        </tt></td> \n",
        "    </tr>\n",
        "</table>"
      ]
    },
    {
      "cell_type": "markdown",
      "metadata": {
        "colab_type": "text",
        "id": "i7kDpap_H08W"
      },
      "source": [
        "---"
      ]
    },
    {
      "cell_type": "markdown",
      "metadata": {
        "colab_type": "text",
        "id": "ZgTca6-DH08W"
      },
      "source": [
        "### 2.6 Prime ReLU (derivative of ReLU)\n",
        "\n",
        "In this task, you will implement the derivative of the ReLU activation function for numpy arrays.\n",
        "\n",
        "The derivative of the ReLU activation matrix Z resulting from applying the derivative of the ReLU function to matrix X is defined such that for $X,Z \\in M_{m \\times n} (\\mathbb{R})$, \n",
        "\n",
        "$$Z = {\\tt PrimeReLU}(X) \\implies \\begin{cases}z_{ij} = \\frac{d}{dx_{ij}} (x_{ij})&{if \\space}x_{ij}> 0\\\\z_{ij} = \\frac{d}{dx_{ij}} (0)&{{otherwise.}}\\end{cases}$$\n",
        "\n",
        "For reference, it is common to use the notation $X = (x_{ij})$ and $Z = (z_{ij})$.\n",
        "\n",
        "**Your Task:** Implement the function `PrimeReLU`."
      ]
    },
    {
      "cell_type": "code",
      "execution_count": 17,
      "metadata": {
        "colab": {},
        "colab_type": "code",
        "id": "EPlQAQHVH08X"
      },
      "outputs": [],
      "source": [
        "def inefficient_PrimeReLU(x):\n",
        "    \"\"\"\n",
        "    Inefficiently applies the derivative of the rectified linear unit \n",
        "    function element-wise.\n",
        "\n",
        "    Parameters: \n",
        "    x (numpy.ndarray): 2-dimensional numpy array.\n",
        "\n",
        "    Returns: \n",
        "    numpy.ndarray: 2-dimensional numpy array.\n",
        "    \"\"\"\n",
        "\n",
        "    result = np.copy(x)\n",
        "    for i in range(x.shape[0]):\n",
        "        for j in range(x.shape[1]):\n",
        "            if x[i][j] < 0:\n",
        "                result[i][j] = 0\n",
        "            else:\n",
        "                result[i][j] = 1\n",
        "                \n",
        "    return result"
      ]
    },
    {
      "cell_type": "code",
      "execution_count": 18,
      "metadata": {
        "colab": {},
        "colab_type": "code",
        "id": "UZHS1EYPH08a"
      },
      "outputs": [],
      "source": [
        "def PrimeReLU(x):\n",
        "    \"\"\"\n",
        "    Applies the derivative of the rectified linear unit function \n",
        "    element-wise.\n",
        "\n",
        "    Parameters: \n",
        "    x (numpy.ndarray): 2-dimensional numpy array.\n",
        "\n",
        "    Returns: \n",
        "    numpy.ndarray: 2-dimensional numpy array.\n",
        "    \"\"\"\n",
        "    \n",
        "    return np.where(x > 0, 1, 0)"
      ]
    },
    {
      "cell_type": "markdown",
      "metadata": {
        "colab_type": "text",
        "id": "xDjx9uBuH08c"
      },
      "source": [
        "#### Test Example:"
      ]
    },
    {
      "cell_type": "code",
      "execution_count": 19,
      "metadata": {
        "colab": {},
        "colab_type": "code",
        "id": "FeDo-fxYH08d"
      },
      "outputs": [
        {
          "name": "stdout",
          "output_type": "stream",
          "text": [
            "Inefficient PrimeReLU =\n",
            " [[0 0 1 ... 1 1 0]\n",
            " [0 1 0 ... 1 1 0]\n",
            " [1 1 0 ... 1 0 0]\n",
            " ...\n",
            " [0 1 1 ... 1 0 0]\n",
            " [1 1 0 ... 1 0 1]\n",
            " [1 0 1 ... 1 0 0]]\n",
            "Computation time = 3750.0ms\n",
            "Efficient PrimeReLU =\n",
            " [[0 0 1 ... 1 1 0]\n",
            " [0 1 0 ... 1 1 0]\n",
            " [1 1 0 ... 1 0 0]\n",
            " ...\n",
            " [0 1 1 ... 1 0 0]\n",
            " [1 1 0 ... 1 0 1]\n",
            " [1 0 1 ... 1 0 0]]\n",
            "Computation time = 15.625ms\n",
            "[[0 0 1 ... 1 1 0]\n",
            " [0 1 0 ... 1 1 0]\n",
            " [1 1 0 ... 1 0 0]\n",
            " ...\n",
            " [0 1 1 ... 1 0 0]\n",
            " [1 1 0 ... 1 0 1]\n",
            " [1 0 1 ... 1 0 0]]\n"
          ]
        }
      ],
      "source": [
        "np.random.seed(0)\n",
        "X = np.random.randint(-1000, 1000, size=(3000,3000))\n",
        "\n",
        "\n",
        "tic = time.process_time() \n",
        "iprelu = inefficient_PrimeReLU(X) \n",
        "toc = time.process_time() \n",
        "print(\"Inefficient PrimeReLU =\\n \"+ str(iprelu)); \n",
        "print(\"Computation time = \"+str(1000*(toc - tic ))+\"ms\") \n",
        "\n",
        "n_tic = time.process_time() \n",
        "prelu = PrimeReLU(X) \n",
        "n_toc = time.process_time() \n",
        "print(\"Efficient PrimeReLU =\\n \"+ str(prelu)); \n",
        "print(\"Computation time = \"+str(1000*(n_toc - n_tic ))+\"ms\") \n",
        "print(PrimeReLU(X))"
      ]
    },
    {
      "cell_type": "markdown",
      "metadata": {
        "colab_type": "text",
        "id": "nF-qkw2wynxJ"
      },
      "source": [
        "**Expected Output**: \n",
        "<table style = \"align:40%\">\n",
        "    <tr>\n",
        "        <td style=\"text-align:left;\"><tt><b> PrimeReLU(X) </b></tt></td> \n",
        "        <td style=\"text-align:left;\"><tt>\n",
        "            [[0&nbsp;0&nbsp;1&nbsp;...&nbsp;1&nbsp;1&nbsp;0] <br>\n",
        "&nbsp;[0&nbsp;1&nbsp;0&nbsp;...&nbsp;1&nbsp;1&nbsp;0] <br>\n",
        "&nbsp;[1&nbsp;1&nbsp;0&nbsp;...&nbsp;1&nbsp;0&nbsp;0] <br>\n",
        "&nbsp;... <br>\n",
        "&nbsp;[0&nbsp;1&nbsp;1&nbsp;...&nbsp;1&nbsp;0&nbsp;0] <br>\n",
        "&nbsp;[1&nbsp;1&nbsp;0&nbsp;...&nbsp;1&nbsp;0&nbsp;1] <br>\n",
        "&nbsp;[1&nbsp;0&nbsp;1&nbsp;...&nbsp;1&nbsp;0&nbsp;0]]\n",
        "        </tt></td> \n",
        "    </tr>\n",
        "</table>"
      ]
    },
    {
      "cell_type": "markdown",
      "metadata": {
        "colab_type": "text",
        "id": "RBF_4SsDH08h"
      },
      "source": [
        "---"
      ]
    },
    {
      "cell_type": "markdown",
      "metadata": {
        "colab_type": "text",
        "id": "P-Ll5fyiH08h"
      },
      "source": [
        "## 3. Pre-processing\n",
        "When working with mathematical objects, there are often strict requirements on their contents such as dimension or set membership. This allows us to make proofs and conclusions about given objects, which motivate our mathematical models. However, data often is not collected in a way that is consistent with our desired requirements.\n",
        "\n",
        "In this problem, you will be introduced to two types of data that will frequently be used in this course: univariate time-series data and multivariate time-series data. Your goal will be to process the given data such that its result is consistent with some requirements. Though the motivation behind these requirements may not yet be clear, they will, needless to say, become useful later in the course.\n",
        "\n",
        "For your implimentation, we encourage you to make use of NumPy to [slice](https://docs.scipy.org/doc/numpy/reference/arrays.indexing.html) and to [pad](https://docs.scipy.org/doc/numpy/reference/generated/numpy.pad.html) data."
      ]
    },
    {
      "cell_type": "code",
      "execution_count": 20,
      "metadata": {
        "colab": {},
        "colab_type": "code",
        "id": "rlWQIY2mH08i"
      },
      "outputs": [],
      "source": [
        "def get_data_1():\n",
        "    \"\"\"\n",
        "    This is the generating process from which example data 1 will derive\n",
        "    \n",
        "    Parameters: \n",
        "    None\n",
        "    \n",
        "    Returns: \n",
        "    numpy.ndarray: 1-d numpy array with 2-d numpy arrays as elements.\n",
        "    \"\"\"\n",
        "    freq000 = 3; freq001 = 1; freq002 = 4; freq003 = 1\n",
        "    freq010 = 5; freq011 = 9; freq012 = 2; freq013 = 6\n",
        "    freq020 = 5; freq021 = 3; freq022 = 5; freq023 = 8\n",
        "    frame00 = np.array([freq000, freq001, freq002, freq003])\n",
        "    frame01 = np.array([freq010, freq011, freq012, freq013])\n",
        "    frame02 = np.array([freq020, freq021, freq022, freq023])\n",
        "    utterance0 = np.array([frame00, frame01, frame02])\n",
        "\n",
        "    freq100 = 9; freq101 = 7; freq102 = 9; freq103 = 3\n",
        "    freq110 = 2; freq111 = 3; freq112 = 8; freq113 = 4\n",
        "    frame10 = np.array([freq100, freq101, freq102, freq103])\n",
        "    frame11 = np.array([freq110, freq111, freq112, freq113])\n",
        "    utterance1 = np.array([frame10, frame11])\n",
        "\n",
        "    freq200 = 6; freq201 = 2; freq202 = 6; freq203 = 4\n",
        "    freq210 = 3; freq211 = 3; freq212 = 8; freq213 = 3\n",
        "    freq220 = 2; freq221 = 7; freq222 = 9; freq223 = 5\n",
        "    freq230 = 0; freq231 = 2; freq232 = 8; freq233 = 8\n",
        "    frame20 = np.array([freq200, freq201, freq202, freq203])\n",
        "    frame21 = np.array([freq210, freq211, freq212, freq213])\n",
        "    frame22 = np.array([freq220, freq221, freq222, freq223])\n",
        "    frame23 = np.array([freq230, freq231, freq232, freq233])\n",
        "    utterance2 = np.array([frame20, frame21, frame22, frame23])\n",
        "\n",
        "    spectrograms = np.array([utterance0, utterance1, utterance2])\n",
        "\n",
        "    return spectrograms\n",
        "\n",
        "def get_data_2():\n",
        "    \"\"\"\n",
        "    This is the generating process from which example data 2 will derive\n",
        "    \n",
        "    Parameters: \n",
        "    None\n",
        "    \n",
        "    Returns: \n",
        "    numpy.ndarray: 1-d numpy array with 2-d numpy arrays as elements.\n",
        "    \"\"\"\n",
        "    np.random.seed(0)\n",
        "    recordings = np.random.randint(10)\n",
        "    durations = [np.random.randint(low=5, high=10) \n",
        "                 for i in range(recordings)]\n",
        "    \n",
        "    data = []\n",
        "    k = 40 # Given as fixed constant\n",
        "    for duration in durations:      \n",
        "        data.append(np.random.randint(10, size=(duration, k)))\n",
        "    data = np.asarray(data)\n",
        "    return data"
      ]
    },
    {
      "cell_type": "markdown",
      "metadata": {
        "colab_type": "text",
        "id": "3byzzWDrH08k"
      },
      "source": [
        "#### Example 1 Data:\n",
        "\n",
        "<img src=\"https://drive.google.com/uc?export=view&id=17bleYiXK9ZnkJ-NR75b3CQI63k43bT-7\" width=\"600\">"
      ]
    },
    {
      "cell_type": "markdown",
      "metadata": {
        "colab_type": "text",
        "id": "m_z-JXQCH08l"
      },
      "source": [
        "<table style = \"align:40%\">\n",
        "    <tr>\n",
        "        <td style=\"text-align:left;\"><tt><b> get_data_1() </b></tt></td> \n",
        "        <td style=\"text-align:left;\"><tt>\n",
        "[array([[3,&nbsp;1,&nbsp;4,&nbsp;1], <br>\n",
        "&nbsp;&nbsp;&nbsp;&nbsp;&nbsp;&nbsp;&nbsp;[5,&nbsp;9,&nbsp;2,&nbsp;6], <br>\n",
        "&nbsp;&nbsp;&nbsp;&nbsp;&nbsp;&nbsp;&nbsp;[5,&nbsp;3,&nbsp;5,&nbsp;8]]) <br>\n",
        "&nbsp;array([[9,&nbsp;7,&nbsp;9,&nbsp;3], <br>\n",
        "&nbsp;&nbsp;&nbsp;&nbsp;&nbsp;&nbsp;&nbsp;[2,&nbsp;3,&nbsp;8,&nbsp;4]]) <br>\n",
        "&nbsp;array([[6,&nbsp;2,&nbsp;6,&nbsp;4], <br>\n",
        "&nbsp;&nbsp;&nbsp;&nbsp;&nbsp;&nbsp;&nbsp;[3,&nbsp;3,&nbsp;8,&nbsp;3], <br>\n",
        "&nbsp;&nbsp;&nbsp;&nbsp;&nbsp;&nbsp;&nbsp;[2,&nbsp;7,&nbsp;9,&nbsp;5], <br>\n",
        "&nbsp;&nbsp;&nbsp;&nbsp;&nbsp;&nbsp;&nbsp;[0,&nbsp;2,&nbsp;8,&nbsp;8]])]\n",
        "        </tt></td> \n",
        "    </tr>\n",
        "</table>"
      ]
    },
    {
      "cell_type": "markdown",
      "metadata": {
        "colab_type": "text",
        "id": "osPmixXVH08l"
      },
      "source": [
        "---"
      ]
    },
    {
      "cell_type": "markdown",
      "metadata": {
        "colab_type": "text",
        "id": "2co-pyzqH08m"
      },
      "source": [
        "### 3.1 Slicing: Last Point\n",
        "Takes one 3-dimensional array with the length of the output instances. Your task is to keep only the $m$ last frames for each instance in the dataset. \n",
        "\n",
        "\n",
        "**Your Task:** Implement the function `slice_last_point`."
      ]
    },
    {
      "cell_type": "code",
      "execution_count": 21,
      "metadata": {
        "colab": {},
        "colab_type": "code",
        "id": "KjYjDNMAH08n"
      },
      "outputs": [],
      "source": [
        "def slice_last_point(x, m):\n",
        "    \"\"\"\n",
        "    Takes one 3-dimensional array with the length of the output instances.\n",
        "    Your task is to keep only the last m points for each instances in \n",
        "    the dataset.\n",
        "\n",
        "    Parameters: \n",
        "    x (numpy.ndarray): 1-d numpy array with 2-d numpy arrays as elements (n, ?, k). \n",
        "    m (int): The cutoff reference index in dimension 2.\n",
        "  \n",
        "    Returns: \n",
        "    numpy.ndarray: A 3-dimensional numpy array of shape (n, m, k)\n",
        "    \"\"\"\n",
        "    spectrograms = x\n",
        "    \n",
        "    # Input function dimension specification\n",
        "    assert(spectrograms.ndim == 1)\n",
        "    for utter in spectrograms:\n",
        "        assert(utter.ndim == 2)\n",
        "\n",
        "    # Pre-define output function dimension specification\n",
        "    dim1 = spectrograms.shape[0]    # n\n",
        "    dim2 = m                        # m\n",
        "    dim3 = spectrograms[0].shape[1] # k\n",
        "\n",
        "    result = np.zeros((dim1,dim2,dim3))\n",
        "    \n",
        "    #### Start of your code ####\n",
        "    \n",
        "    for i in range(dim1):\n",
        "        result[i] = x[i][-m:]\n",
        "        \n",
        "    ####  End of your code  ####\n",
        "\n",
        "    # Assert output function dimension specification\n",
        "    assert(result.shape[0] == dim1)\n",
        "    assert(result.shape[1] == dim2)\n",
        "    assert(result.shape[2] == dim3)\n",
        "    \n",
        "    return result"
      ]
    },
    {
      "cell_type": "markdown",
      "metadata": {
        "colab_type": "text",
        "id": "uB4sVNv7H08p"
      },
      "source": [
        "#### Example 1:"
      ]
    },
    {
      "cell_type": "code",
      "execution_count": 22,
      "metadata": {
        "colab": {},
        "colab_type": "code",
        "id": "4M0qK5CqH08p"
      },
      "outputs": [
        {
          "name": "stdout",
          "output_type": "stream",
          "text": [
            "[[[5. 9. 2. 6.]\n",
            "  [5. 3. 5. 8.]]\n",
            "\n",
            " [[9. 7. 9. 3.]\n",
            "  [2. 3. 8. 4.]]\n",
            "\n",
            " [[2. 7. 9. 5.]\n",
            "  [0. 2. 8. 8.]]]\n"
          ]
        },
        {
          "name": "stderr",
          "output_type": "stream",
          "text": [
            "C:\\Users\\walee\\AppData\\Local\\Temp\\ipykernel_23200\\14553816.py:35: VisibleDeprecationWarning: Creating an ndarray from ragged nested sequences (which is a list-or-tuple of lists-or-tuples-or ndarrays with different lengths or shapes) is deprecated. If you meant to do this, you must specify 'dtype=object' when creating the ndarray.\n",
            "  spectrograms = np.array([utterance0, utterance1, utterance2])\n"
          ]
        }
      ],
      "source": [
        "spectrograms = get_data_1()\n",
        "duration = 2\n",
        "print(slice_last_point(spectrograms, duration))"
      ]
    },
    {
      "cell_type": "markdown",
      "metadata": {
        "colab_type": "text",
        "id": "v3GFcSMuH08r"
      },
      "source": [
        "#### Expected Output 1\n",
        "\n",
        "<img src=\"https://drive.google.com/uc?export=view&id=1FxmbQwtrF_uwB6P7ZDIh9_sSbQi_QReP\" width=\"600\">"
      ]
    },
    {
      "cell_type": "markdown",
      "metadata": {
        "colab_type": "text",
        "id": "QKARxwYtzIQU"
      },
      "source": [
        "<table style = \"align:40%\">\n",
        "    <tr>\n",
        "        <td style=\"text-align:left;\"><tt><b> slice_last_point(<br>spectrograms, duration) </b></tt></td> \n",
        "        <td style=\"text-align:left;\"><tt>\n",
        "            [[[5.&nbsp;9.&nbsp;2.&nbsp;6.] <br>\n",
        "&nbsp;&nbsp;[5.&nbsp;3.&nbsp;5.&nbsp;8.]] <br>\n",
        "\n",
        "&nbsp;[[9.&nbsp;7.&nbsp;9.&nbsp;3.] <br>\n",
        "&nbsp;&nbsp;[2.&nbsp;3.&nbsp;8.&nbsp;4.]] <br>\n",
        "\n",
        "&nbsp;[[2.&nbsp;7.&nbsp;9.&nbsp;5.] <br>\n",
        "&nbsp;&nbsp;[0.&nbsp;2.&nbsp;8.&nbsp;8.]]] <br>\n",
        "        </tt></td> \n",
        "    </tr>\n",
        "</table>"
      ]
    },
    {
      "cell_type": "markdown",
      "metadata": {
        "colab_type": "text",
        "id": "Q-LgATuBH08r"
      },
      "source": [
        "#### Example 2:"
      ]
    },
    {
      "cell_type": "code",
      "execution_count": 23,
      "metadata": {
        "colab": {},
        "colab_type": "code",
        "id": "nDssaj9jH08s"
      },
      "outputs": [
        {
          "name": "stdout",
          "output_type": "stream",
          "text": [
            "[[7. 2. 7. 1. 6. 5. 0. 0. 3. 1. 9. 9. 6. 6. 7. 8. 8. 7. 0. 8. 6. 8. 9. 8.\n",
            "  3. 6. 1. 7. 4. 9. 2. 0. 8. 2. 7. 8. 4. 4. 1. 7.]\n",
            " [6. 9. 4. 1. 5. 9. 7. 1. 3. 5. 7. 3. 6. 6. 7. 9. 1. 9. 6. 0. 3. 8. 4. 1.\n",
            "  4. 5. 0. 3. 1. 4. 4. 4. 0. 0. 8. 4. 6. 9. 3. 3.]\n",
            " [2. 1. 2. 1. 3. 4. 1. 1. 0. 7. 8. 4. 3. 5. 6. 3. 2. 9. 8. 1. 4. 0. 8. 3.\n",
            "  9. 5. 5. 1. 7. 8. 6. 4. 7. 3. 5. 3. 6. 4. 7. 3.]\n",
            " [0. 5. 9. 3. 7. 5. 5. 8. 0. 8. 3. 6. 9. 3. 2. 7. 0. 3. 0. 3. 6. 1. 9. 2.\n",
            "  9. 4. 9. 1. 3. 2. 4. 9. 7. 4. 9. 4. 1. 2. 7. 2.]\n",
            " [3. 9. 7. 6. 6. 2. 3. 6. 0. 8. 0. 7. 6. 5. 9. 6. 5. 2. 7. 1. 9. 2. 2. 5.\n",
            "  6. 4. 2. 2. 1. 0. 9. 0. 2. 8. 3. 0. 8. 8. 1. 0.]]\n"
          ]
        },
        {
          "name": "stderr",
          "output_type": "stream",
          "text": [
            "C:\\Users\\walee\\AppData\\Local\\Temp\\ipykernel_23200\\14553816.py:58: VisibleDeprecationWarning: Creating an ndarray from ragged nested sequences (which is a list-or-tuple of lists-or-tuples-or ndarrays with different lengths or shapes) is deprecated. If you meant to do this, you must specify 'dtype=object' when creating the ndarray.\n",
            "  data = np.asarray(data)\n"
          ]
        }
      ],
      "source": [
        "data = get_data_2()\n",
        "m = 5\n",
        "print(slice_last_point(data, m)[1])"
      ]
    },
    {
      "cell_type": "markdown",
      "metadata": {
        "colab_type": "text",
        "id": "l9VBiZ4uzVGV"
      },
      "source": [
        "**Expected Output 2**: \n",
        "<table style = \"align:40%\"  >\n",
        "    <tr>\n",
        "        <td style=\"text-align:left;\"><tt><b> slice_last_point(<br>data, m)[1] </b></tt></td> \n",
        "        <td style=\"text-align:left;\"><tt>\n",
        "[[7.&nbsp;2.&nbsp;7.&nbsp;1.&nbsp;6.&nbsp;5.&nbsp;0.&nbsp;0.&nbsp;3.&nbsp;1.&nbsp;9.&nbsp;9.&nbsp;6.&nbsp;6.&nbsp;7.&nbsp;8.&nbsp;8.&nbsp;7.&nbsp;0.&nbsp;8.&nbsp;6.&nbsp;8.&nbsp;9.&nbsp;8. <br>\n",
        "&nbsp;&nbsp;3.&nbsp;6.&nbsp;1.&nbsp;7.&nbsp;4.&nbsp;9.&nbsp;2.&nbsp;0.&nbsp;8.&nbsp;2.&nbsp;7.&nbsp;8.&nbsp;4.&nbsp;4.&nbsp;1.&nbsp;7.] <br>\n",
        "&nbsp;[6.&nbsp;9.&nbsp;4.&nbsp;1.&nbsp;5.&nbsp;9.&nbsp;7.&nbsp;1.&nbsp;3.&nbsp;5.&nbsp;7.&nbsp;3.&nbsp;6.&nbsp;6.&nbsp;7.&nbsp;9.&nbsp;1.&nbsp;9.&nbsp;6.&nbsp;0.&nbsp;3.&nbsp;8.&nbsp;4.&nbsp;1. <br>\n",
        "&nbsp;&nbsp;4.&nbsp;5.&nbsp;0.&nbsp;3.&nbsp;1.&nbsp;4.&nbsp;4.&nbsp;4.&nbsp;0.&nbsp;0.&nbsp;8.&nbsp;4.&nbsp;6.&nbsp;9.&nbsp;3.&nbsp;3.] <br>\n",
        "&nbsp;[2.&nbsp;1.&nbsp;2.&nbsp;1.&nbsp;3.&nbsp;4.&nbsp;1.&nbsp;1.&nbsp;0.&nbsp;7.&nbsp;8.&nbsp;4.&nbsp;3.&nbsp;5.&nbsp;6.&nbsp;3.&nbsp;2.&nbsp;9.&nbsp;8.&nbsp;1.&nbsp;4.&nbsp;0.&nbsp;8.&nbsp;3. <br>\n",
        "&nbsp;&nbsp;9.&nbsp;5.&nbsp;5.&nbsp;1.&nbsp;7.&nbsp;8.&nbsp;6.&nbsp;4.&nbsp;7.&nbsp;3.&nbsp;5.&nbsp;3.&nbsp;6.&nbsp;4.&nbsp;7.&nbsp;3.] <br>\n",
        "&nbsp;[0.&nbsp;5.&nbsp;9.&nbsp;3.&nbsp;7.&nbsp;5.&nbsp;5.&nbsp;8.&nbsp;0.&nbsp;8.&nbsp;3.&nbsp;6.&nbsp;9.&nbsp;3.&nbsp;2.&nbsp;7.&nbsp;0.&nbsp;3.&nbsp;0.&nbsp;3.&nbsp;6.&nbsp;1.&nbsp;9.&nbsp;2. <br>\n",
        "&nbsp;&nbsp;9.&nbsp;4.&nbsp;9.&nbsp;1.&nbsp;3.&nbsp;2.&nbsp;4.&nbsp;9.&nbsp;7.&nbsp;4.&nbsp;9.&nbsp;4.&nbsp;1.&nbsp;2.&nbsp;7.&nbsp;2.] <br>\n",
        "&nbsp;[3.&nbsp;9.&nbsp;7.&nbsp;6.&nbsp;6.&nbsp;2.&nbsp;3.&nbsp;6.&nbsp;0.&nbsp;8.&nbsp;0.&nbsp;7.&nbsp;6.&nbsp;5.&nbsp;9.&nbsp;6.&nbsp;5.&nbsp;2.&nbsp;7.&nbsp;1.&nbsp;9.&nbsp;2.&nbsp;2.&nbsp;5. <br>\n",
        "&nbsp;&nbsp;6.&nbsp;4.&nbsp;2.&nbsp;2.&nbsp;1.&nbsp;0.&nbsp;9.&nbsp;0.&nbsp;2.&nbsp;8.&nbsp;3.&nbsp;0.&nbsp;8.&nbsp;8.&nbsp;1.&nbsp;0.]]\n",
        "        </tt></td> \n",
        "    </tr>\n",
        "</table>"
      ]
    },
    {
      "cell_type": "markdown",
      "metadata": {
        "colab_type": "text",
        "id": "qyveMfT6H08u"
      },
      "source": [
        "---"
      ]
    },
    {
      "cell_type": "markdown",
      "metadata": {
        "colab_type": "text",
        "id": "FY6DqMjIH08v"
      },
      "source": [
        "### 3.2 Slicing: Fixed Point\n",
        "Takes one 3-dimensional array with the starting position and the length of the output instances. Your task is to slice the instances from the same starting position for the given length.\n",
        "\n",
        "\n",
        "**Your Task:** Implement the function `slice_fixed_point`."
      ]
    },
    {
      "cell_type": "code",
      "execution_count": 24,
      "metadata": {
        "colab": {},
        "colab_type": "code",
        "id": "2r_pvsvMH08v"
      },
      "outputs": [],
      "source": [
        "def slice_fixed_point(x, s, m):\n",
        "    \"\"\"\n",
        "    Takes one 3-dimensional array with the starting position and the \n",
        "    length of the output instances. Your task is to slice the instances \n",
        "    from the same starting position for the given length.\n",
        "\n",
        "    Parameters:\n",
        "    x (numpy.ndarray): 1-d numpy array with 2-d numpy arrays as elements (n, ?, k).\n",
        "    s (int): The starting reference index in dimension 2.\n",
        "    m (int): The cutoff reference index in dimension 2.\n",
        "    \n",
        "    Returns:\n",
        "    numpy.ndarray: A 3-dimensional int numpy array of shape (n, m-s, k)\n",
        "    \"\"\"\n",
        "    spectrograms = x\n",
        "    \n",
        "    # Input function dimension specification\n",
        "    assert(spectrograms.ndim == 1)\n",
        "    for utter in spectrograms:\n",
        "        assert(utter.ndim == 2)\n",
        "\n",
        "    # Pre-define output function dimension specification\n",
        "    dim1 = spectrograms.shape[0]     # n\n",
        "    dim2 = m-s                      # m-s\n",
        "    dim3 = spectrograms[0].shape[1]  # k\n",
        "\n",
        "    result = np.zeros((dim1,dim2,dim3))\n",
        "\n",
        "    #### Start of your code ####\n",
        "    \n",
        "    for i in range(dim1):\n",
        "        result[i] = x[i][s:m]\n",
        "        \n",
        "    \n",
        "    ####  End of your code  ####\n",
        "\n",
        "    # Assert output function dimension specification\n",
        "    assert(result.shape[0] == dim1)\n",
        "    assert(result.shape[1] == dim2)\n",
        "    assert(result.shape[2] == dim3)\n",
        "    \n",
        "    return result"
      ]
    },
    {
      "cell_type": "markdown",
      "metadata": {
        "colab_type": "text",
        "id": "b4Xi1ljNH08w"
      },
      "source": [
        "#### Test Example 1:"
      ]
    },
    {
      "cell_type": "code",
      "execution_count": 25,
      "metadata": {
        "colab": {
          "base_uri": "https://localhost:8080/",
          "height": 156
        },
        "colab_type": "code",
        "id": "47VX2mECH08x",
        "outputId": "17cacfa2-ad69-46c0-b309-71c787b31382"
      },
      "outputs": [
        {
          "name": "stdout",
          "output_type": "stream",
          "text": [
            "[[[3. 1. 4. 1.]\n",
            "  [5. 9. 2. 6.]]\n",
            "\n",
            " [[9. 7. 9. 3.]\n",
            "  [2. 3. 8. 4.]]\n",
            "\n",
            " [[6. 2. 6. 4.]\n",
            "  [3. 3. 8. 3.]]]\n"
          ]
        },
        {
          "name": "stderr",
          "output_type": "stream",
          "text": [
            "C:\\Users\\walee\\AppData\\Local\\Temp\\ipykernel_23200\\14553816.py:35: VisibleDeprecationWarning: Creating an ndarray from ragged nested sequences (which is a list-or-tuple of lists-or-tuples-or ndarrays with different lengths or shapes) is deprecated. If you meant to do this, you must specify 'dtype=object' when creating the ndarray.\n",
            "  spectrograms = np.array([utterance0, utterance1, utterance2])\n"
          ]
        }
      ],
      "source": [
        "spectrograms = get_data_1()\n",
        "start = 0\n",
        "end = 2\n",
        "print(slice_fixed_point(spectrograms, start, end))"
      ]
    },
    {
      "cell_type": "markdown",
      "metadata": {
        "colab_type": "text",
        "id": "aeNQXTzNH08z"
      },
      "source": [
        "#### Expected Output 1\n",
        "\n",
        "<img src=\"https://drive.google.com/uc?export=view&id=1tysSInZNzTwhLR5ipH-gH8DNItPoWjCl\" width=\"600\">"
      ]
    },
    {
      "cell_type": "markdown",
      "metadata": {
        "colab_type": "text",
        "id": "u0Ml-w8hH080"
      },
      "source": [
        "<table style = \"align:40%\">\n",
        "    <tr>\n",
        "        <td style=\"text-align:left;\"><tt><b> slice_fixed_point(<br>spectrograms, start, end) </b></tt></td> \n",
        "        <td style=\"text-align:left;\"><tt>\n",
        "            [[[3.&nbsp;1.&nbsp;4.&nbsp;1.] <br>\n",
        "&nbsp;&nbsp;[5.&nbsp;9.&nbsp;2.&nbsp;6.]] <br>\n",
        "\n",
        "&nbsp;[[9.&nbsp;7.&nbsp;9.&nbsp;3.] <br>\n",
        "&nbsp;&nbsp;[2.&nbsp;3.&nbsp;8.&nbsp;4.]] <br>\n",
        "\n",
        "&nbsp;[[6.&nbsp;2.&nbsp;6.&nbsp;4.] <br>\n",
        "&nbsp;&nbsp;[3.&nbsp;3.&nbsp;8.&nbsp;3.]]] <br>\n",
        "        </tt></td> \n",
        "    </tr>\n",
        "</table>"
      ]
    },
    {
      "cell_type": "markdown",
      "metadata": {
        "colab_type": "text",
        "id": "gQnVYDTZH080"
      },
      "source": [
        "#### Test Example 2:"
      ]
    },
    {
      "cell_type": "code",
      "execution_count": 26,
      "metadata": {
        "colab": {},
        "colab_type": "code",
        "id": "AAHEnSQwH081"
      },
      "outputs": [
        {
          "name": "stdout",
          "output_type": "stream",
          "text": [
            "[[8. 7. 0. 3. 8. 7. 7. 1. 8. 4. 7. 0. 4. 9. 0. 6. 4. 2. 4. 6. 3. 3. 7. 8.\n",
            "  5. 0. 8. 5. 4. 7. 4. 1. 3. 3. 9. 2. 5. 2. 3. 5.]\n",
            " [7. 2. 7. 1. 6. 5. 0. 0. 3. 1. 9. 9. 6. 6. 7. 8. 8. 7. 0. 8. 6. 8. 9. 8.\n",
            "  3. 6. 1. 7. 4. 9. 2. 0. 8. 2. 7. 8. 4. 4. 1. 7.]\n",
            " [6. 9. 4. 1. 5. 9. 7. 1. 3. 5. 7. 3. 6. 6. 7. 9. 1. 9. 6. 0. 3. 8. 4. 1.\n",
            "  4. 5. 0. 3. 1. 4. 4. 4. 0. 0. 8. 4. 6. 9. 3. 3.]]\n"
          ]
        },
        {
          "name": "stderr",
          "output_type": "stream",
          "text": [
            "C:\\Users\\walee\\AppData\\Local\\Temp\\ipykernel_23200\\14553816.py:58: VisibleDeprecationWarning: Creating an ndarray from ragged nested sequences (which is a list-or-tuple of lists-or-tuples-or ndarrays with different lengths or shapes) is deprecated. If you meant to do this, you must specify 'dtype=object' when creating the ndarray.\n",
            "  data = np.asarray(data)\n"
          ]
        }
      ],
      "source": [
        "data = get_data_2()\n",
        "s = 2\n",
        "m = 5\n",
        "print(slice_fixed_point(data, s, m)[1])"
      ]
    },
    {
      "cell_type": "markdown",
      "metadata": {
        "colab_type": "text",
        "id": "2DBVyeruH084"
      },
      "source": [
        "**Expected Output 2**: \n",
        "<table style = \"align:40%\">\n",
        "    <tr>\n",
        "        <td style=\"text-align:left;\"><tt><b> slice_fixed_point(<br>data, s, m)[1] </b></tt></td> \n",
        "        <td style=\"text-align:left;\"><tt>\n",
        "[[8.&nbsp;7.&nbsp;0.&nbsp;3.&nbsp;8.&nbsp;7.&nbsp;7.&nbsp;1.&nbsp;8.&nbsp;4.&nbsp;7.&nbsp;0.&nbsp;4.&nbsp;9.&nbsp;0.&nbsp;6.&nbsp;4.&nbsp;2.&nbsp;4.&nbsp;6.&nbsp;3.&nbsp;3.&nbsp;7.&nbsp;8. <br>\n",
        "&nbsp;&nbsp;5.&nbsp;0.&nbsp;8.&nbsp;5.&nbsp;4.&nbsp;7.&nbsp;4.&nbsp;1.&nbsp;3.&nbsp;3.&nbsp;9.&nbsp;2.&nbsp;5.&nbsp;2.&nbsp;3.&nbsp;5.] <br>\n",
        "&nbsp;[7.&nbsp;2.&nbsp;7.&nbsp;1.&nbsp;6.&nbsp;5.&nbsp;0.&nbsp;0.&nbsp;3.&nbsp;1.&nbsp;9.&nbsp;9.&nbsp;6.&nbsp;6.&nbsp;7.&nbsp;8.&nbsp;8.&nbsp;7.&nbsp;0.&nbsp;8.&nbsp;6.&nbsp;8.&nbsp;9.&nbsp;8. <br>\n",
        "&nbsp;&nbsp;3.&nbsp;6.&nbsp;1.&nbsp;7.&nbsp;4.&nbsp;9.&nbsp;2.&nbsp;0.&nbsp;8.&nbsp;2.&nbsp;7.&nbsp;8.&nbsp;4.&nbsp;4.&nbsp;1.&nbsp;7.] <br>\n",
        "&nbsp;[6.&nbsp;9.&nbsp;4.&nbsp;1.&nbsp;5.&nbsp;9.&nbsp;7.&nbsp;1.&nbsp;3.&nbsp;5.&nbsp;7.&nbsp;3.&nbsp;6.&nbsp;6.&nbsp;7.&nbsp;9.&nbsp;1.&nbsp;9.&nbsp;6.&nbsp;0.&nbsp;3.&nbsp;8.&nbsp;4.&nbsp;1. <br>\n",
        "&nbsp;&nbsp;4.&nbsp;5.&nbsp;0.&nbsp;3.&nbsp;1.&nbsp;4.&nbsp;4.&nbsp;4.&nbsp;0.&nbsp;0.&nbsp;8.&nbsp;4.&nbsp;6.&nbsp;9.&nbsp;3.&nbsp;3.]]\n",
        "        </tt></td> \n",
        "    </tr>\n",
        "</table>"
      ]
    },
    {
      "cell_type": "markdown",
      "metadata": {
        "colab_type": "text",
        "id": "zrol2sEQH084"
      },
      "source": [
        "---"
      ]
    },
    {
      "cell_type": "markdown",
      "metadata": {
        "colab_type": "text",
        "id": "xwhBu_3uH085"
      },
      "source": [
        "### 3.3 Slicing: Random Point\n",
        "Takes one 3-dimensional array with the length of the output instances. Your task is to slice the instances from a random point in each of the utterances with the given length. Please use function `numpy.random.randint` for generating the starting position.\n",
        "\n",
        "\n",
        "**Your Task:** Implement the function `slice_random_point`."
      ]
    },
    {
      "cell_type": "code",
      "execution_count": 27,
      "metadata": {
        "colab": {},
        "colab_type": "code",
        "id": "osjv-k31H085"
      },
      "outputs": [],
      "source": [
        "def slice_random_point(x, d):\n",
        "    \"\"\"\n",
        "    Takes one 3-dimensional array with the length of the output instances.\n",
        "    Your task is to slice the instances from a random point in each of the\n",
        "    utterances with the given length. Please use offset and refer to their \n",
        "    mathematical correspondance.\n",
        "\n",
        "    Parameters: \n",
        "    x (numpy.ndarray): 1-d numpy array with 2-d numpy arrays as elements (n, ?, k).\n",
        "    d (int): The resulting size of the data in dimension 2.\n",
        "    \n",
        "    Returns: \n",
        "    numpy.ndarray: A 3-dimensional int numpy array of shape (n, d, k)\n",
        "    \"\"\"\n",
        "    spectrograms = x\n",
        "    \n",
        "    # Input function dimension specification\n",
        "    assert(spectrograms.ndim == 1)\n",
        "    for utter in spectrograms:\n",
        "        assert(utter.ndim == 2)\n",
        "        assert(utter.shape[0] >= d)\n",
        "\n",
        "    offset = [np.random.randint(utter.shape[0]-d+1)\n",
        "              if utter.shape[0]-d > 0 else 0\n",
        "              for utter in spectrograms]\n",
        "\n",
        "    # Pre-define output function dimension specification\n",
        "    dim1 = spectrograms.shape[0]    # n\n",
        "    dim2 = d                       # d\n",
        "    dim3 = spectrograms[0].shape[1] # k\n",
        "\n",
        "    result = np.zeros((dim1,dim2,dim3))\n",
        "    #### Start of your code ####\n",
        "\n",
        "    for i in range(dim1):\n",
        "        result[i] = x[i][offset[i]:offset[i]+d]\n",
        "        \n",
        "    ####  End of your code  ####\n",
        "\n",
        "    # Assert output function dimension specification\n",
        "    assert(result.shape[0] == dim1)\n",
        "    assert(result.shape[1] == dim2)\n",
        "    assert(result.shape[2] == dim3)\n",
        "    \n",
        "    return result"
      ]
    },
    {
      "cell_type": "markdown",
      "metadata": {
        "colab_type": "text",
        "id": "zCPYbCD8H087"
      },
      "source": [
        "#### Test Example 1:"
      ]
    },
    {
      "cell_type": "code",
      "execution_count": 28,
      "metadata": {
        "colab": {},
        "colab_type": "code",
        "id": "vsB6Lgd2H087"
      },
      "outputs": [
        {
          "name": "stdout",
          "output_type": "stream",
          "text": [
            "[[[5. 9. 2. 6.]\n",
            "  [5. 3. 5. 8.]]\n",
            "\n",
            " [[9. 7. 9. 3.]\n",
            "  [2. 3. 8. 4.]]\n",
            "\n",
            " [[6. 2. 6. 4.]\n",
            "  [3. 3. 8. 3.]]]\n"
          ]
        },
        {
          "name": "stderr",
          "output_type": "stream",
          "text": [
            "C:\\Users\\walee\\AppData\\Local\\Temp\\ipykernel_23200\\14553816.py:35: VisibleDeprecationWarning: Creating an ndarray from ragged nested sequences (which is a list-or-tuple of lists-or-tuples-or ndarrays with different lengths or shapes) is deprecated. If you meant to do this, you must specify 'dtype=object' when creating the ndarray.\n",
            "  spectrograms = np.array([utterance0, utterance1, utterance2])\n"
          ]
        }
      ],
      "source": [
        "np.random.seed(1)\n",
        "spectrograms = get_data_1()\n",
        "duration = 2\n",
        "print(slice_random_point(spectrograms, duration))"
      ]
    },
    {
      "cell_type": "markdown",
      "metadata": {
        "colab_type": "text",
        "id": "_LXr_8xCH089"
      },
      "source": [
        "#### Expected Output 1\n",
        "\n",
        "<img src=\"https://drive.google.com/uc?export=view&id=1GFTgv4dEGSji888fyCUWfyoq1vQYTlzU\" width=\"600\">"
      ]
    },
    {
      "cell_type": "markdown",
      "metadata": {
        "colab_type": "text",
        "id": "DzXNrk3JH089"
      },
      "source": [
        "<table style = \"align:40%\">\n",
        "    <tr>\n",
        "        <td style=\"text-align:left;\"><tt><b> slice_random_point(<br>spectrograms, duration) </b></tt></td> \n",
        "        <td style=\"text-align:left;\"><tt>\n",
        "            [[[5.&nbsp;9.&nbsp;2.&nbsp;6.] <br>\n",
        "&nbsp;&nbsp;[5.&nbsp;3.&nbsp;5.&nbsp;8.]] <br>\n",
        "\n",
        "&nbsp;[[9.&nbsp;7.&nbsp;9.&nbsp;3.] <br>\n",
        "&nbsp;&nbsp;[2.&nbsp;3.&nbsp;8.&nbsp;4.]] <br>\n",
        "\n",
        "&nbsp;[[6.&nbsp;2.&nbsp;6.&nbsp;4.] <br>\n",
        "&nbsp;&nbsp;[3.&nbsp;3.&nbsp;8.&nbsp;3.]]] <br>\n",
        "        </tt></td> \n",
        "    </tr>\n",
        "</table>"
      ]
    },
    {
      "cell_type": "markdown",
      "metadata": {
        "colab_type": "text",
        "id": "rh17JcbRH08-"
      },
      "source": [
        "#### Test Example 2:"
      ]
    },
    {
      "cell_type": "code",
      "execution_count": 29,
      "metadata": {
        "colab": {},
        "colab_type": "code",
        "id": "jhBjrQX-H08-"
      },
      "outputs": [
        {
          "name": "stdout",
          "output_type": "stream",
          "text": [
            "[[3. 3. 7. 9. 9. 9. 7. 3. 2. 3. 9. 7. 7. 5. 1. 2. 2. 8. 1. 5. 8. 4. 0. 2.\n",
            "  5. 5. 0. 8. 1. 1. 0. 3. 8. 8. 4. 4. 0. 9. 3. 7.]\n",
            " [3. 2. 1. 1. 2. 1. 4. 2. 5. 5. 5. 2. 5. 7. 7. 6. 1. 6. 7. 2. 3. 1. 9. 5.\n",
            "  9. 9. 2. 0. 9. 1. 9. 0. 6. 0. 4. 8. 4. 3. 3. 8.]\n",
            " [8. 7. 0. 3. 8. 7. 7. 1. 8. 4. 7. 0. 4. 9. 0. 6. 4. 2. 4. 6. 3. 3. 7. 8.\n",
            "  5. 0. 8. 5. 4. 7. 4. 1. 3. 3. 9. 2. 5. 2. 3. 5.]\n",
            " [7. 2. 7. 1. 6. 5. 0. 0. 3. 1. 9. 9. 6. 6. 7. 8. 8. 7. 0. 8. 6. 8. 9. 8.\n",
            "  3. 6. 1. 7. 4. 9. 2. 0. 8. 2. 7. 8. 4. 4. 1. 7.]]\n"
          ]
        },
        {
          "name": "stderr",
          "output_type": "stream",
          "text": [
            "C:\\Users\\walee\\AppData\\Local\\Temp\\ipykernel_23200\\14553816.py:58: VisibleDeprecationWarning: Creating an ndarray from ragged nested sequences (which is a list-or-tuple of lists-or-tuples-or ndarrays with different lengths or shapes) is deprecated. If you meant to do this, you must specify 'dtype=object' when creating the ndarray.\n",
            "  data = np.asarray(data)\n"
          ]
        }
      ],
      "source": [
        "data = get_data_2()\n",
        "d = 4\n",
        "print(slice_random_point(data, d)[1])"
      ]
    },
    {
      "cell_type": "markdown",
      "metadata": {
        "colab_type": "text",
        "id": "igMYfwV6H09A"
      },
      "source": [
        "**Expected Output 2**: \n",
        "<table style = \"align:40%\">\n",
        "    <tr>\n",
        "        <td style=\"text-align:left;\"><tt><b> slice_random_point(<br>data, d)[1] </b></tt></td> \n",
        "        <td style=\"text-align:left;\"><tt>\n",
        "[[3.&nbsp;3.&nbsp;7.&nbsp;9.&nbsp;9.&nbsp;9.&nbsp;7.&nbsp;3.&nbsp;2.&nbsp;3.&nbsp;9.&nbsp;7.&nbsp;7.&nbsp;5.&nbsp;1.&nbsp;2.&nbsp;2.&nbsp;8.&nbsp;1.&nbsp;5.&nbsp;8.&nbsp;4.&nbsp;0.&nbsp;2. <br>\n",
        "&nbsp;&nbsp;5.&nbsp;5.&nbsp;0.&nbsp;8.&nbsp;1.&nbsp;1.&nbsp;0.&nbsp;3.&nbsp;8.&nbsp;8.&nbsp;4.&nbsp;4.&nbsp;0.&nbsp;9.&nbsp;3.&nbsp;7.] <br>\n",
        "&nbsp;[3.&nbsp;2.&nbsp;1.&nbsp;1.&nbsp;2.&nbsp;1.&nbsp;4.&nbsp;2.&nbsp;5.&nbsp;5.&nbsp;5.&nbsp;2.&nbsp;5.&nbsp;7.&nbsp;7.&nbsp;6.&nbsp;1.&nbsp;6.&nbsp;7.&nbsp;2.&nbsp;3.&nbsp;1.&nbsp;9.&nbsp;5. <br>\n",
        "&nbsp;&nbsp;9.&nbsp;9.&nbsp;2.&nbsp;0.&nbsp;9.&nbsp;1.&nbsp;9.&nbsp;0.&nbsp;6.&nbsp;0.&nbsp;4.&nbsp;8.&nbsp;4.&nbsp;3.&nbsp;3.&nbsp;8.] <br>\n",
        "&nbsp;[8.&nbsp;7.&nbsp;0.&nbsp;3.&nbsp;8.&nbsp;7.&nbsp;7.&nbsp;1.&nbsp;8.&nbsp;4.&nbsp;7.&nbsp;0.&nbsp;4.&nbsp;9.&nbsp;0.&nbsp;6.&nbsp;4.&nbsp;2.&nbsp;4.&nbsp;6.&nbsp;3.&nbsp;3.&nbsp;7.&nbsp;8. <br>\n",
        "&nbsp;&nbsp;5.&nbsp;0.&nbsp;8.&nbsp;5.&nbsp;4.&nbsp;7.&nbsp;4.&nbsp;1.&nbsp;3.&nbsp;3.&nbsp;9.&nbsp;2.&nbsp;5.&nbsp;2.&nbsp;3.&nbsp;5.] <br>\n",
        "&nbsp;[7.&nbsp;2.&nbsp;7.&nbsp;1.&nbsp;6.&nbsp;5.&nbsp;0.&nbsp;0.&nbsp;3.&nbsp;1.&nbsp;9.&nbsp;9.&nbsp;6.&nbsp;6.&nbsp;7.&nbsp;8.&nbsp;8.&nbsp;7.&nbsp;0.&nbsp;8.&nbsp;6.&nbsp;8.&nbsp;9.&nbsp;8. <br>\n",
        "&nbsp;&nbsp;3.&nbsp;6.&nbsp;1.&nbsp;7.&nbsp;4.&nbsp;9.&nbsp;2.&nbsp;0.&nbsp;8.&nbsp;2.&nbsp;7.&nbsp;8.&nbsp;4.&nbsp;4.&nbsp;1.&nbsp;7.]]\n",
        "        </tt></td> \n",
        "    </tr>\n",
        "</table>"
      ]
    },
    {
      "cell_type": "markdown",
      "metadata": {
        "colab_type": "text",
        "id": "JtijxOWiH09A"
      },
      "source": [
        "---"
      ]
    },
    {
      "cell_type": "markdown",
      "metadata": {
        "colab_type": "text",
        "id": "nt4iO6bWH09B"
      },
      "source": [
        "### 3.4 Padding: Ending Pattern\n",
        "Takes one 3-dimensional array. Your task is to pad the instances from the end position as shown in the example below. That is, you need to pad the reflection of the utterance mirrored along the edge values of the array.\n",
        "\n",
        "\n",
        "**Your Task:** Implement the function `pad_ending_pattern`."
      ]
    },
    {
      "cell_type": "code",
      "execution_count": 30,
      "metadata": {
        "colab": {},
        "colab_type": "code",
        "id": "bo9gQ5OdH09B"
      },
      "outputs": [],
      "source": [
        "def pad_ending_pattern(x):\n",
        "    \"\"\"\n",
        "    Takes one 3-dimensional array. Your task is to pad the instances from \n",
        "    the end position as shown in the example below. That is, you need to \n",
        "    pad it with the reflection of the vector mirrored along the edge of the array.\n",
        "    \n",
        "    Parameters: \n",
        "    x (numpy.ndarray): 1-d numpy array with 2-d numpy arrays as elements.\n",
        "    \n",
        "    Returns: \n",
        "    numpy.ndarray: 3-dimensional int numpy array\n",
        "    \"\"\"\n",
        "    spectrograms = x\n",
        "    \n",
        "    # Input function dimension specification\n",
        "    assert(spectrograms.ndim == 1)\n",
        "    for utter in spectrograms:\n",
        "        assert(utter.ndim == 2)\n",
        "\n",
        "    # Pre-define output function dimension specification\n",
        "    dim1 = spectrograms.shape[0]    # n\n",
        "    dim2 = max([utter.shape[0] for utter in spectrograms]) # m\n",
        "    dim3 = spectrograms[0].shape[1] # k\n",
        "\n",
        "    result = np.zeros((dim1, dim2, dim3))\n",
        "\n",
        "    #### Start of your code ####\n",
        "    for i in range(dim1):\n",
        "        reversed_xi = x[i][::-1]\n",
        "        result[i] = np.concatenate((x[i], reversed_xi[0: dim2 - len(reversed_xi)]), axis=0 )\n",
        "    ####  End of your code  ####\n",
        "\n",
        "    # Assert output function dimension specification\n",
        "    assert(result.shape[0] == dim1)\n",
        "    assert(result.shape[1] == dim2)\n",
        "    assert(result.shape[2] == dim3)\n",
        "    \n",
        "    return result"
      ]
    },
    {
      "cell_type": "markdown",
      "metadata": {
        "colab_type": "text",
        "id": "N5An5i3eH09F"
      },
      "source": [
        "#### Test Example 1:"
      ]
    },
    {
      "cell_type": "code",
      "execution_count": 31,
      "metadata": {
        "colab": {},
        "colab_type": "code",
        "id": "ro1jbn1dH09F"
      },
      "outputs": [
        {
          "name": "stdout",
          "output_type": "stream",
          "text": [
            "[[[3. 1. 4. 1.]\n",
            "  [5. 9. 2. 6.]\n",
            "  [5. 3. 5. 8.]\n",
            "  [5. 3. 5. 8.]]\n",
            "\n",
            " [[9. 7. 9. 3.]\n",
            "  [2. 3. 8. 4.]\n",
            "  [2. 3. 8. 4.]\n",
            "  [9. 7. 9. 3.]]\n",
            "\n",
            " [[6. 2. 6. 4.]\n",
            "  [3. 3. 8. 3.]\n",
            "  [2. 7. 9. 5.]\n",
            "  [0. 2. 8. 8.]]]\n"
          ]
        },
        {
          "name": "stderr",
          "output_type": "stream",
          "text": [
            "C:\\Users\\walee\\AppData\\Local\\Temp\\ipykernel_23200\\14553816.py:35: VisibleDeprecationWarning: Creating an ndarray from ragged nested sequences (which is a list-or-tuple of lists-or-tuples-or ndarrays with different lengths or shapes) is deprecated. If you meant to do this, you must specify 'dtype=object' when creating the ndarray.\n",
            "  spectrograms = np.array([utterance0, utterance1, utterance2])\n"
          ]
        }
      ],
      "source": [
        "spectrograms = get_data_1()\n",
        "print(pad_ending_pattern(spectrograms))"
      ]
    },
    {
      "cell_type": "markdown",
      "metadata": {
        "colab_type": "text",
        "id": "ULL5dkM1H09J"
      },
      "source": [
        "#### Expected Output 1\n",
        "<img src=\"https://drive.google.com/uc?export=view&id=1Whi35rlD2aqIu11F4z7lH0V9B3wsUuHX\" width=\"600\">"
      ]
    },
    {
      "cell_type": "markdown",
      "metadata": {
        "colab_type": "text",
        "id": "tO8Uww7YH09J"
      },
      "source": [
        "<table style = \"align:40%\">\n",
        "    <tr>\n",
        "        <td style=\"text-align:left;\"><tt><b> pad_ending_pattern(spectrograms) </b></tt></td> \n",
        "        <td style=\"text-align:left;\"><tt>\n",
        "[[[3.&nbsp;1.&nbsp;4.&nbsp;1.] <br>\n",
        "&nbsp;&nbsp;[5.&nbsp;9.&nbsp;2.&nbsp;6.] <br>\n",
        "&nbsp;&nbsp;[5.&nbsp;3.&nbsp;5.&nbsp;8.] <br>\n",
        "&nbsp;&nbsp;[5.&nbsp;3.&nbsp;5.&nbsp;8.]] <br>\n",
        "\n",
        "&nbsp;[[9.&nbsp;7.&nbsp;9.&nbsp;3.] <br>\n",
        "&nbsp;&nbsp;[2.&nbsp;3.&nbsp;8.&nbsp;4.] <br>\n",
        "&nbsp;&nbsp;[2.&nbsp;3.&nbsp;8.&nbsp;4.] <br>\n",
        "&nbsp;&nbsp;[9.&nbsp;7.&nbsp;9.&nbsp;3.]] <br>\n",
        "\n",
        "&nbsp;[[6.&nbsp;2.&nbsp;6.&nbsp;4.] <br>\n",
        "&nbsp;&nbsp;[3.&nbsp;3.&nbsp;8.&nbsp;3.] <br>\n",
        "&nbsp;&nbsp;[2.&nbsp;7.&nbsp;9.&nbsp;5.] <br>\n",
        "&nbsp;&nbsp;[0.&nbsp;2.&nbsp;8.&nbsp;8.]]]\n",
        "        </tt></td> \n",
        "    </tr>\n",
        "</table>"
      ]
    },
    {
      "cell_type": "markdown",
      "metadata": {
        "colab_type": "text",
        "id": "aBH2BlrXH09K"
      },
      "source": [
        "#### Test Example 2:"
      ]
    },
    {
      "cell_type": "code",
      "execution_count": 32,
      "metadata": {
        "colab": {},
        "colab_type": "code",
        "id": "89aowJChH09K"
      },
      "outputs": [
        {
          "name": "stdout",
          "output_type": "stream",
          "text": [
            "[[8. 2. 4. 3. 1. 6. 5. 8. 4. 3. 6. 5. 3. 7. 8. 8. 3. 7. 8. 5. 7. 2. 7. 8.\n",
            "  0. 7. 4. 8. 4. 4. 0. 4. 8. 0. 0. 4. 7. 3. 7. 7.]\n",
            " [2. 2. 1. 7. 0. 7. 5. 9. 7. 1. 1. 2. 4. 1. 4. 5. 8. 2. 1. 6. 3. 0. 3. 9.\n",
            "  5. 1. 3. 7. 1. 1. 7. 9. 4. 2. 0. 3. 2. 4. 0. 0.]\n",
            " [9. 3. 8. 3. 0. 4. 4. 0. 2. 5. 5. 8. 2. 7. 3. 6. 1. 0. 2. 2. 5. 5. 1. 2.\n",
            "  8. 7. 3. 7. 3. 1. 0. 1. 0. 8. 8. 5. 3. 3. 1. 0.]\n",
            " [6. 1. 6. 9. 5. 7. 0. 1. 4. 9. 5. 1. 6. 5. 4. 4. 4. 7. 2. 2. 6. 5. 3. 0.\n",
            "  8. 8. 1. 8. 7. 5. 7. 9. 4. 0. 7. 2. 3. 9. 5. 4.]\n",
            " [0. 4. 5. 8. 1. 4. 8. 0. 1. 1. 8. 9. 4. 9. 0. 3. 0. 7. 0. 8. 1. 2. 8. 5.\n",
            "  8. 2. 1. 3. 5. 0. 2. 5. 8. 6. 2. 7. 7. 1. 8. 4.]\n",
            " [9. 3. 3. 2. 9. 0. 4. 6. 4. 3. 2. 3. 1. 1. 2. 7. 2. 7. 0. 1. 8. 0. 5. 2.\n",
            "  8. 0. 4. 0. 3. 8. 1. 6. 4. 6. 9. 6. 4. 7. 2. 9.]\n",
            " [9. 3. 3. 2. 9. 0. 4. 6. 4. 3. 2. 3. 1. 1. 2. 7. 2. 7. 0. 1. 8. 0. 5. 2.\n",
            "  8. 0. 4. 0. 3. 8. 1. 6. 4. 6. 9. 6. 4. 7. 2. 9.]\n",
            " [0. 4. 5. 8. 1. 4. 8. 0. 1. 1. 8. 9. 4. 9. 0. 3. 0. 7. 0. 8. 1. 2. 8. 5.\n",
            "  8. 2. 1. 3. 5. 0. 2. 5. 8. 6. 2. 7. 7. 1. 8. 4.]]\n"
          ]
        },
        {
          "name": "stderr",
          "output_type": "stream",
          "text": [
            "C:\\Users\\walee\\AppData\\Local\\Temp\\ipykernel_23200\\14553816.py:58: VisibleDeprecationWarning: Creating an ndarray from ragged nested sequences (which is a list-or-tuple of lists-or-tuples-or ndarrays with different lengths or shapes) is deprecated. If you meant to do this, you must specify 'dtype=object' when creating the ndarray.\n",
            "  data = np.asarray(data)\n"
          ]
        }
      ],
      "source": [
        "data = get_data_2()\n",
        "print(pad_ending_pattern(data)[4])"
      ]
    },
    {
      "cell_type": "markdown",
      "metadata": {
        "colab_type": "text",
        "id": "J0ktC1GrH09O"
      },
      "source": [
        "**Expected Output 2**: \n",
        "<table style = \"align:40%\">\n",
        "    <tr>\n",
        "        <td style=\"text-align:left;\"><tt><b> pad_ending_pattern(<br>data)[4] </b></tt></td> \n",
        "        <td style=\"text-align:left;\"><tt>\n",
        "[[8.&nbsp;2.&nbsp;4.&nbsp;3.&nbsp;1.&nbsp;6.&nbsp;5.&nbsp;8.&nbsp;4.&nbsp;3.&nbsp;6.&nbsp;5.&nbsp;3.&nbsp;7.&nbsp;8.&nbsp;8.&nbsp;3.&nbsp;7.&nbsp;8.&nbsp;5.&nbsp;7.&nbsp;2.&nbsp;7.&nbsp;8. <br>\n",
        "&nbsp;&nbsp;0.&nbsp;7.&nbsp;4.&nbsp;8.&nbsp;4.&nbsp;4.&nbsp;0.&nbsp;4.&nbsp;8.&nbsp;0.&nbsp;0.&nbsp;4.&nbsp;7.&nbsp;3.&nbsp;7.&nbsp;7.] <br>\n",
        "&nbsp;[2.&nbsp;2.&nbsp;1.&nbsp;7.&nbsp;0.&nbsp;7.&nbsp;5.&nbsp;9.&nbsp;7.&nbsp;1.&nbsp;1.&nbsp;2.&nbsp;4.&nbsp;1.&nbsp;4.&nbsp;5.&nbsp;8.&nbsp;2.&nbsp;1.&nbsp;6.&nbsp;3.&nbsp;0.&nbsp;3.&nbsp;9. <br>\n",
        "&nbsp;&nbsp;5.&nbsp;1.&nbsp;3.&nbsp;7.&nbsp;1.&nbsp;1.&nbsp;7.&nbsp;9.&nbsp;4.&nbsp;2.&nbsp;0.&nbsp;3.&nbsp;2.&nbsp;4.&nbsp;0.&nbsp;0.] <br>\n",
        "&nbsp;[9.&nbsp;3.&nbsp;8.&nbsp;3.&nbsp;0.&nbsp;4.&nbsp;4.&nbsp;0.&nbsp;2.&nbsp;5.&nbsp;5.&nbsp;8.&nbsp;2.&nbsp;7.&nbsp;3.&nbsp;6.&nbsp;1.&nbsp;0.&nbsp;2.&nbsp;2.&nbsp;5.&nbsp;5.&nbsp;1.&nbsp;2. <br>\n",
        "&nbsp;&nbsp;8.&nbsp;7.&nbsp;3.&nbsp;7.&nbsp;3.&nbsp;1.&nbsp;0.&nbsp;1.&nbsp;0.&nbsp;8.&nbsp;8.&nbsp;5.&nbsp;3.&nbsp;3.&nbsp;1.&nbsp;0.] <br>\n",
        "&nbsp;[6.&nbsp;1.&nbsp;6.&nbsp;9.&nbsp;5.&nbsp;7.&nbsp;0.&nbsp;1.&nbsp;4.&nbsp;9.&nbsp;5.&nbsp;1.&nbsp;6.&nbsp;5.&nbsp;4.&nbsp;4.&nbsp;4.&nbsp;7.&nbsp;2.&nbsp;2.&nbsp;6.&nbsp;5.&nbsp;3.&nbsp;0. <br>\n",
        "&nbsp;&nbsp;8.&nbsp;8.&nbsp;1.&nbsp;8.&nbsp;7.&nbsp;5.&nbsp;7.&nbsp;9.&nbsp;4.&nbsp;0.&nbsp;7.&nbsp;2.&nbsp;3.&nbsp;9.&nbsp;5.&nbsp;4.] <br>\n",
        "&nbsp;[0.&nbsp;4.&nbsp;5.&nbsp;8.&nbsp;1.&nbsp;4.&nbsp;8.&nbsp;0.&nbsp;1.&nbsp;1.&nbsp;8.&nbsp;9.&nbsp;4.&nbsp;9.&nbsp;0.&nbsp;3.&nbsp;0.&nbsp;7.&nbsp;0.&nbsp;8.&nbsp;1.&nbsp;2.&nbsp;8.&nbsp;5. <br>\n",
        "&nbsp;&nbsp;8.&nbsp;2.&nbsp;1.&nbsp;3.&nbsp;5.&nbsp;0.&nbsp;2.&nbsp;5.&nbsp;8.&nbsp;6.&nbsp;2.&nbsp;7.&nbsp;7.&nbsp;1.&nbsp;8.&nbsp;4.] <br>\n",
        "&nbsp;[9.&nbsp;3.&nbsp;3.&nbsp;2.&nbsp;9.&nbsp;0.&nbsp;4.&nbsp;6.&nbsp;4.&nbsp;3.&nbsp;2.&nbsp;3.&nbsp;1.&nbsp;1.&nbsp;2.&nbsp;7.&nbsp;2.&nbsp;7.&nbsp;0.&nbsp;1.&nbsp;8.&nbsp;0.&nbsp;5.&nbsp;2. <br>\n",
        "&nbsp;&nbsp;8.&nbsp;0.&nbsp;4.&nbsp;0.&nbsp;3.&nbsp;8.&nbsp;1.&nbsp;6.&nbsp;4.&nbsp;6.&nbsp;9.&nbsp;6.&nbsp;4.&nbsp;7.&nbsp;2.&nbsp;9.] <br>\n",
        "&nbsp;[9.&nbsp;3.&nbsp;3.&nbsp;2.&nbsp;9.&nbsp;0.&nbsp;4.&nbsp;6.&nbsp;4.&nbsp;3.&nbsp;2.&nbsp;3.&nbsp;1.&nbsp;1.&nbsp;2.&nbsp;7.&nbsp;2.&nbsp;7.&nbsp;0.&nbsp;1.&nbsp;8.&nbsp;0.&nbsp;5.&nbsp;2. <br>\n",
        "&nbsp;&nbsp;8.&nbsp;0.&nbsp;4.&nbsp;0.&nbsp;3.&nbsp;8.&nbsp;1.&nbsp;6.&nbsp;4.&nbsp;6.&nbsp;9.&nbsp;6.&nbsp;4.&nbsp;7.&nbsp;2.&nbsp;9.] <br>\n",
        "&nbsp;[0.&nbsp;4.&nbsp;5.&nbsp;8.&nbsp;1.&nbsp;4.&nbsp;8.&nbsp;0.&nbsp;1.&nbsp;1.&nbsp;8.&nbsp;9.&nbsp;4.&nbsp;9.&nbsp;0.&nbsp;3.&nbsp;0.&nbsp;7.&nbsp;0.&nbsp;8.&nbsp;1.&nbsp;2.&nbsp;8.&nbsp;5. <br>\n",
        "&nbsp;&nbsp;8.&nbsp;2.&nbsp;1.&nbsp;3.&nbsp;5.&nbsp;0.&nbsp;2.&nbsp;5.&nbsp;8.&nbsp;6.&nbsp;2.&nbsp;7.&nbsp;7.&nbsp;1.&nbsp;8.&nbsp;4.]]\n",
        "        </tt></td> \n",
        "    </tr>\n",
        "</table>"
      ]
    },
    {
      "cell_type": "markdown",
      "metadata": {
        "colab_type": "text",
        "id": "W1uG8cWUH09O"
      },
      "source": [
        "---"
      ]
    },
    {
      "cell_type": "markdown",
      "metadata": {
        "colab_type": "text",
        "id": "xDRv8u3TH09O"
      },
      "source": [
        "### 3.5 Padding: Constant Central Pattern\n",
        "Takes one 3-dimensional array with the constant value of padding. Your task is to pad the instances with the given constant value while maintaining the array at the center of the padding.\n",
        "\n",
        "\n",
        "**Your Task:** Implement the function `pad_constant_central_pattern`."
      ]
    },
    {
      "cell_type": "code",
      "execution_count": 35,
      "metadata": {
        "colab": {},
        "colab_type": "code",
        "id": "LXmwsBjdH09P"
      },
      "outputs": [],
      "source": [
        "def pad_constant_central_pattern(x, cval):\n",
        "    \"\"\"\n",
        "    Takes one 3-dimensional array with the constant value of padding. \n",
        "    Your task is to pad the instances with the given constant value while\n",
        "    maintaining the array at the center of the padding.\n",
        "\n",
        "    Parameters: \n",
        "    x (numpy.ndarray): 1-d numpy array with 2-d numpy arrays as elements.\n",
        "    cval (numpy.int64): scalar quantity.\n",
        "    \n",
        "    Returns: \n",
        "    numpy.ndarray: 3-dimensional int numpy array, (n, m, k).\n",
        "    \"\"\"\n",
        "    spectrograms = x\n",
        "    \n",
        "    # Input function dimension specification\n",
        "    assert(spectrograms.ndim == 1)\n",
        "    for utter in spectrograms:\n",
        "        assert(utter.ndim == 2)\n",
        "\n",
        "    dim1 = spectrograms.shape[0]    # n\n",
        "    dim2 = max([utter.shape[0] for utter in spectrograms]) # m\n",
        "    dim3 = spectrograms[0].shape[1] # k\n",
        "\n",
        "    result = np.ones((dim1,dim2,dim3))\n",
        "\n",
        "    #### Start of your code ####\n",
        "    def pad_once(datapoint, flag):\n",
        "        padding = np.full((datapoint.shape[1]), cval)\n",
        "        if flag:\n",
        "            datapoint = np.vstack((datapoint,padding))\n",
        "        else:\n",
        "            datapoint = np.vstack((padding,datapoint))\n",
        "        return datapoint\n",
        "\n",
        "    for i in range(dim1):\n",
        "        padded = x[i]\n",
        "        flag = True\n",
        "        for j in range(dim2 - len(x[i])):\n",
        "            padded = pad_once(padded,flag)\n",
        "            flag = not flag\n",
        "        result[i] = padded\n",
        "\n",
        "    ####  End of your code  ####\n",
        "\n",
        "    # Assert output function dimension specification\n",
        "    assert(result.shape[0] == dim1)\n",
        "    assert(result.shape[1] == dim2)\n",
        "    assert(result.shape[2] == dim3)\n",
        "    \n",
        "    return result"
      ]
    },
    {
      "cell_type": "markdown",
      "metadata": {
        "colab_type": "text",
        "id": "MyTjVsShH09R"
      },
      "source": [
        "#### Test Example 1:"
      ]
    },
    {
      "cell_type": "code",
      "execution_count": 36,
      "metadata": {
        "colab": {},
        "colab_type": "code",
        "id": "EpgBJBZzH09R"
      },
      "outputs": [
        {
          "name": "stdout",
          "output_type": "stream",
          "text": [
            "[[[3. 1. 4. 1.]\n",
            "  [5. 9. 2. 6.]\n",
            "  [5. 3. 5. 8.]\n",
            "  [0. 0. 0. 0.]]\n",
            "\n",
            " [[0. 0. 0. 0.]\n",
            "  [9. 7. 9. 3.]\n",
            "  [2. 3. 8. 4.]\n",
            "  [0. 0. 0. 0.]]\n",
            "\n",
            " [[6. 2. 6. 4.]\n",
            "  [3. 3. 8. 3.]\n",
            "  [2. 7. 9. 5.]\n",
            "  [0. 2. 8. 8.]]]\n"
          ]
        },
        {
          "name": "stderr",
          "output_type": "stream",
          "text": [
            "C:\\Users\\walee\\AppData\\Local\\Temp\\ipykernel_23200\\14553816.py:35: VisibleDeprecationWarning: Creating an ndarray from ragged nested sequences (which is a list-or-tuple of lists-or-tuples-or ndarrays with different lengths or shapes) is deprecated. If you meant to do this, you must specify 'dtype=object' when creating the ndarray.\n",
            "  spectrograms = np.array([utterance0, utterance1, utterance2])\n"
          ]
        }
      ],
      "source": [
        "spectrograms = get_data_1()\n",
        "print(pad_constant_central_pattern(spectrograms, 0))"
      ]
    },
    {
      "cell_type": "markdown",
      "metadata": {
        "colab_type": "text",
        "id": "nytgg199H09T"
      },
      "source": [
        "#### Expected Output 1\n",
        "\n",
        "<img src=\"https://drive.google.com/uc?export=view&id=1kmKVaYLxAkU9_XnfYSbsoYI9Acay2d0j\" width=\"600\">"
      ]
    },
    {
      "cell_type": "markdown",
      "metadata": {
        "colab_type": "text",
        "id": "c43zg_jFH09T"
      },
      "source": [
        "<table style = \"align:40%\">\n",
        "    <tr>\n",
        "        <td style=\"text-align:left;\"><tt><b> pad_constant_central_pattern(spectrograms, 0) </b></tt></td> \n",
        "        <td style=\"text-align:left;\"><tt>\n",
        "[[[3.&nbsp;1.&nbsp;4.&nbsp;1.] <br>\n",
        "&nbsp;&nbsp;[5.&nbsp;9.&nbsp;2.&nbsp;6.] <br>\n",
        "&nbsp;&nbsp;[5.&nbsp;3.&nbsp;5.&nbsp;8.] <br>\n",
        "&nbsp;&nbsp;[0.&nbsp;0.&nbsp;0.&nbsp;0.]] <br>\n",
        "\n",
        "&nbsp;[[0.&nbsp;0.&nbsp;0.&nbsp;0.] <br>\n",
        "&nbsp;&nbsp;[9.&nbsp;7.&nbsp;9.&nbsp;3.] <br>\n",
        "&nbsp;&nbsp;[2.&nbsp;3.&nbsp;8.&nbsp;4.] <br>\n",
        "&nbsp;&nbsp;[0.&nbsp;0.&nbsp;0.&nbsp;0.]] <br>\n",
        "\n",
        "&nbsp;[[6.&nbsp;2.&nbsp;6.&nbsp;4.] <br>\n",
        "&nbsp;&nbsp;[3.&nbsp;3.&nbsp;8.&nbsp;3.] <br>\n",
        "&nbsp;&nbsp;[2.&nbsp;7.&nbsp;9.&nbsp;5.] <br>\n",
        "&nbsp;&nbsp;[0.&nbsp;2.&nbsp;8.&nbsp;8.]]]\n",
        "        </tt></td> \n",
        "    </tr>\n",
        "</table>"
      ]
    },
    {
      "cell_type": "markdown",
      "metadata": {
        "colab_type": "text",
        "id": "eZ6gQ28-H09U"
      },
      "source": [
        "#### Test Example 2:"
      ]
    },
    {
      "cell_type": "code",
      "execution_count": null,
      "metadata": {
        "colab": {},
        "colab_type": "code",
        "id": "DGJZ05B5H09U"
      },
      "outputs": [
        {
          "name": "stdout",
          "output_type": "stream",
          "text": [
            "[[0. 0. 0. 0. 0. 0. 0. 0. 0. 0. 0. 0. 0. 0. 0. 0. 0. 0. 0. 0. 0. 0. 0. 0.\n",
            "  0. 0. 0. 0. 0. 0. 0. 0. 0. 0. 0. 0. 0. 0. 0. 0.]\n",
            " [3. 5. 2. 4. 7. 6. 8. 8. 1. 6. 7. 7. 8. 1. 5. 9. 8. 9. 4. 3. 0. 3. 5. 0.\n",
            "  2. 3. 8. 1. 3. 3. 3. 7. 0. 1. 9. 9. 0. 4. 7. 3.]\n",
            " [2. 7. 2. 0. 0. 4. 5. 5. 6. 8. 4. 1. 4. 9. 8. 1. 1. 7. 9. 9. 3. 6. 7. 2.\n",
            "  0. 3. 5. 9. 4. 4. 6. 4. 4. 3. 4. 4. 8. 4. 3. 7.]\n",
            " [5. 5. 0. 1. 5. 9. 3. 0. 5. 0. 1. 2. 4. 2. 0. 3. 2. 0. 7. 5. 9. 0. 2. 7.\n",
            "  2. 9. 2. 3. 3. 2. 3. 4. 1. 2. 9. 1. 4. 6. 8. 2.]\n",
            " [3. 0. 0. 6. 0. 6. 3. 3. 8. 8. 8. 2. 3. 2. 0. 8. 8. 3. 8. 2. 8. 4. 3. 0.\n",
            "  4. 3. 6. 9. 8. 0. 8. 5. 9. 0. 9. 6. 5. 3. 1. 8.]\n",
            " [0. 4. 9. 6. 5. 7. 8. 8. 9. 2. 8. 6. 6. 9. 1. 6. 8. 8. 3. 2. 3. 6. 3. 6.\n",
            "  5. 7. 0. 8. 4. 6. 5. 8. 2. 3. 9. 7. 5. 3. 4. 5.]\n",
            " [0. 0. 0. 0. 0. 0. 0. 0. 0. 0. 0. 0. 0. 0. 0. 0. 0. 0. 0. 0. 0. 0. 0. 0.\n",
            "  0. 0. 0. 0. 0. 0. 0. 0. 0. 0. 0. 0. 0. 0. 0. 0.]\n",
            " [0. 0. 0. 0. 0. 0. 0. 0. 0. 0. 0. 0. 0. 0. 0. 0. 0. 0. 0. 0. 0. 0. 0. 0.\n",
            "  0. 0. 0. 0. 0. 0. 0. 0. 0. 0. 0. 0. 0. 0. 0. 0.]]\n"
          ]
        },
        {
          "name": "stderr",
          "output_type": "stream",
          "text": [
            "C:\\Users\\walee\\AppData\\Local\\Temp\\ipykernel_22364\\14553816.py:58: VisibleDeprecationWarning: Creating an ndarray from ragged nested sequences (which is a list-or-tuple of lists-or-tuples-or ndarrays with different lengths or shapes) is deprecated. If you meant to do this, you must specify 'dtype=object' when creating the ndarray.\n",
            "  data = np.asarray(data)\n"
          ]
        }
      ],
      "source": [
        "data = get_data_2()\n",
        "print(pad_constant_central_pattern(data, cval = 0)[0])"
      ]
    },
    {
      "cell_type": "markdown",
      "metadata": {
        "colab_type": "text",
        "id": "sRAIBhu6H09W"
      },
      "source": [
        "**Expected Output 2**: \n",
        "<table style = \"align:40%\">\n",
        "    <tr>\n",
        "        <td style=\"text-align:left;\"><tt><b> pad_constant_central_pattern(<br>data, cval = 0)[0] </b></tt></td> \n",
        "        <td style=\"text-align:left;\"><tt>\n",
        "[[0.&nbsp;0.&nbsp;0.&nbsp;0.&nbsp;0.&nbsp;0.&nbsp;0.&nbsp;0.&nbsp;0.&nbsp;0.&nbsp;0.&nbsp;0.&nbsp;0.&nbsp;0.&nbsp;0.&nbsp;0.&nbsp;0.&nbsp;0.&nbsp;0.&nbsp;0.&nbsp;0.&nbsp;0.&nbsp;0.&nbsp;0. <br>\n",
        "&nbsp;&nbsp;0.&nbsp;0.&nbsp;0.&nbsp;0.&nbsp;0.&nbsp;0.&nbsp;0.&nbsp;0.&nbsp;0.&nbsp;0.&nbsp;0.&nbsp;0.&nbsp;0.&nbsp;0.&nbsp;0.&nbsp;0.] <br>\n",
        "&nbsp;[3.&nbsp;5.&nbsp;2.&nbsp;4.&nbsp;7.&nbsp;6.&nbsp;8.&nbsp;8.&nbsp;1.&nbsp;6.&nbsp;7.&nbsp;7.&nbsp;8.&nbsp;1.&nbsp;5.&nbsp;9.&nbsp;8.&nbsp;9.&nbsp;4.&nbsp;3.&nbsp;0.&nbsp;3.&nbsp;5.&nbsp;0. <br>\n",
        "&nbsp;&nbsp;2.&nbsp;3.&nbsp;8.&nbsp;1.&nbsp;3.&nbsp;3.&nbsp;3.&nbsp;7.&nbsp;0.&nbsp;1.&nbsp;9.&nbsp;9.&nbsp;0.&nbsp;4.&nbsp;7.&nbsp;3.] <br>\n",
        "&nbsp;[2.&nbsp;7.&nbsp;2.&nbsp;0.&nbsp;0.&nbsp;4.&nbsp;5.&nbsp;5.&nbsp;6.&nbsp;8.&nbsp;4.&nbsp;1.&nbsp;4.&nbsp;9.&nbsp;8.&nbsp;1.&nbsp;1.&nbsp;7.&nbsp;9.&nbsp;9.&nbsp;3.&nbsp;6.&nbsp;7.&nbsp;2. <br>\n",
        "&nbsp;&nbsp;0.&nbsp;3.&nbsp;5.&nbsp;9.&nbsp;4.&nbsp;4.&nbsp;6.&nbsp;4.&nbsp;4.&nbsp;3.&nbsp;4.&nbsp;4.&nbsp;8.&nbsp;4.&nbsp;3.&nbsp;7.] <br>\n",
        "&nbsp;[5.&nbsp;5.&nbsp;0.&nbsp;1.&nbsp;5.&nbsp;9.&nbsp;3.&nbsp;0.&nbsp;5.&nbsp;0.&nbsp;1.&nbsp;2.&nbsp;4.&nbsp;2.&nbsp;0.&nbsp;3.&nbsp;2.&nbsp;0.&nbsp;7.&nbsp;5.&nbsp;9.&nbsp;0.&nbsp;2.&nbsp;7. <br>\n",
        "&nbsp;&nbsp;2.&nbsp;9.&nbsp;2.&nbsp;3.&nbsp;3.&nbsp;2.&nbsp;3.&nbsp;4.&nbsp;1.&nbsp;2.&nbsp;9.&nbsp;1.&nbsp;4.&nbsp;6.&nbsp;8.&nbsp;2.] <br>\n",
        "&nbsp;[3.&nbsp;0.&nbsp;0.&nbsp;6.&nbsp;0.&nbsp;6.&nbsp;3.&nbsp;3.&nbsp;8.&nbsp;8.&nbsp;8.&nbsp;2.&nbsp;3.&nbsp;2.&nbsp;0.&nbsp;8.&nbsp;8.&nbsp;3.&nbsp;8.&nbsp;2.&nbsp;8.&nbsp;4.&nbsp;3.&nbsp;0. <br>\n",
        "&nbsp;&nbsp;4.&nbsp;3.&nbsp;6.&nbsp;9.&nbsp;8.&nbsp;0.&nbsp;8.&nbsp;5.&nbsp;9.&nbsp;0.&nbsp;9.&nbsp;6.&nbsp;5.&nbsp;3.&nbsp;1.&nbsp;8.] <br>\n",
        "&nbsp;[0.&nbsp;4.&nbsp;9.&nbsp;6.&nbsp;5.&nbsp;7.&nbsp;8.&nbsp;8.&nbsp;9.&nbsp;2.&nbsp;8.&nbsp;6.&nbsp;6.&nbsp;9.&nbsp;1.&nbsp;6.&nbsp;8.&nbsp;8.&nbsp;3.&nbsp;2.&nbsp;3.&nbsp;6.&nbsp;3.&nbsp;6. <br>\n",
        "&nbsp;&nbsp;5.&nbsp;7.&nbsp;0.&nbsp;8.&nbsp;4.&nbsp;6.&nbsp;5.&nbsp;8.&nbsp;2.&nbsp;3.&nbsp;9.&nbsp;7.&nbsp;5.&nbsp;3.&nbsp;4.&nbsp;5.] <br>\n",
        "&nbsp;[0.&nbsp;0.&nbsp;0.&nbsp;0.&nbsp;0.&nbsp;0.&nbsp;0.&nbsp;0.&nbsp;0.&nbsp;0.&nbsp;0.&nbsp;0.&nbsp;0.&nbsp;0.&nbsp;0.&nbsp;0.&nbsp;0.&nbsp;0.&nbsp;0.&nbsp;0.&nbsp;0.&nbsp;0.&nbsp;0.&nbsp;0. <br>\n",
        "&nbsp;&nbsp;0.&nbsp;0.&nbsp;0.&nbsp;0.&nbsp;0.&nbsp;0.&nbsp;0.&nbsp;0.&nbsp;0.&nbsp;0.&nbsp;0.&nbsp;0.&nbsp;0.&nbsp;0.&nbsp;0.&nbsp;0.] <br>\n",
        "&nbsp;[0.&nbsp;0.&nbsp;0.&nbsp;0.&nbsp;0.&nbsp;0.&nbsp;0.&nbsp;0.&nbsp;0.&nbsp;0.&nbsp;0.&nbsp;0.&nbsp;0.&nbsp;0.&nbsp;0.&nbsp;0.&nbsp;0.&nbsp;0.&nbsp;0.&nbsp;0.&nbsp;0.&nbsp;0.&nbsp;0.&nbsp;0. <br>\n",
        "&nbsp;&nbsp;0.&nbsp;0.&nbsp;0.&nbsp;0.&nbsp;0.&nbsp;0.&nbsp;0.&nbsp;0.&nbsp;0.&nbsp;0.&nbsp;0.&nbsp;0.&nbsp;0.&nbsp;0.&nbsp;0.&nbsp;0.]]\n",
        "        </tt></td> \n",
        "    </tr>\n",
        "</table>"
      ]
    },
    {
      "cell_type": "markdown",
      "metadata": {
        "colab_type": "text",
        "id": "WlNJet2fH09W"
      },
      "source": [
        "---"
      ]
    },
    {
      "cell_type": "markdown",
      "metadata": {
        "colab_type": "text",
        "id": "PT9CiFoLH09Y"
      },
      "source": [
        "## 4. PyTorch\n",
        "PyTorch is an open-source deep learning library for python, and will be the primary framework throughout the course. You can install PyTorch referring to https://PyTorch.org/get-started/locally/. One of the fundamental concepts in PyTorch is the Tensor, a multi-dimensional matrix containing elements of a single type. Tensors are similar to numpy nd-arrays and tensors support most of the functionality that numpy matrices do.\n",
        "\n",
        "In the following exercises, you will familiarize yourself with tensors and more importantly, the PyTorch documentation. It is important to note that for this section we are simply using PyTorch’s tensors as a matrix library, just like numpy. So please do not use functions in torch.nn, like torch.nn.ReLU.\n"
      ]
    },
    {
      "cell_type": "markdown",
      "metadata": {
        "colab_type": "text",
        "id": "UdcyNVfyXRGv"
      },
      "source": [
        "---"
      ]
    },
    {
      "cell_type": "markdown",
      "metadata": {
        "colab_type": "text",
        "id": "5Wdw0EeuH09l"
      },
      "source": [
        "### 4.1 Tensor Sum-Products\n",
        "\n",
        "In this task, you will implement the sum-product function for PyTorch Tensors. \n",
        "\n",
        "The function should take two tensors as input and return the sum over all the dimensions of the outer product of two vectors.\n",
        "\n",
        "\n",
        "$$\n",
        "f(x, y) = \n",
        "{\n",
        "\\begin{bmatrix}\n",
        "1\\\\\n",
        "1\\\\\n",
        "⋮\\\\\n",
        "1\n",
        "\\end{bmatrix}^{\\;T}\n",
        "%\n",
        "\\begin{bmatrix}\n",
        "x_1 y_1 & x_1 y_2 & … & x_1 y_n\\\\\n",
        "x_2 y_1 & x_2 y_2 & … & x_2 y_n\\\\\n",
        "⋮ & ⋮ & ⋱ & ⋮ \\\\\n",
        "x_m y_1 & x_m y_2 & … & x_m y_n\n",
        "\\end{bmatrix}\n",
        "%\n",
        "\\begin{bmatrix}\n",
        "1\\\\\n",
        "1\\\\\n",
        "⋮\\\\\n",
        "1\n",
        "\\end{bmatrix}\n",
        "} = \n",
        "\\displaystyle\\sum_{i=1}^{n} \\displaystyle\\sum_{j=1}^{n} x_i \\cdot y_j\n",
        "$$\n",
        "\n",
        "**Your Task**: Implement the function `tensor_sumproducts`."
      ]
    },
    {
      "cell_type": "code",
      "execution_count": null,
      "metadata": {
        "colab": {},
        "colab_type": "code",
        "id": "ioPHdZ_UH09m"
      },
      "outputs": [],
      "source": [
        "def tensor_sumproducts(x,y):\n",
        "    \"\"\"\n",
        "    Sum over all the dimensions of the outer product of two vectors.\n",
        "\n",
        "    Parameters: \n",
        "    x (torch.Tensor): 1-dimensional torch tensor.\n",
        "    y (torch.Tensor): 1-dimensional torch tensor.\n",
        "\n",
        "    Returns: \n",
        "    torch.int64: scalar quantity.\n",
        "    \"\"\"\n",
        "    # return torch.sum(torch.outer(x,y))\n",
        "    return torch.sum(torch.outer(x,y))"
      ]
    },
    {
      "cell_type": "code",
      "execution_count": null,
      "metadata": {},
      "outputs": [
        {
          "name": "stdout",
          "output_type": "stream",
          "text": [
            "(1, 3000) (3000, 1)\n"
          ]
        },
        {
          "data": {
            "text/plain": [
              "array([[19896.]])"
            ]
          },
          "execution_count": 119,
          "metadata": {},
          "output_type": "execute_result"
        }
      ],
      "source": [
        "X = np.random.randint(-1000, 1000, size=3000)\n",
        "a = np.ones(len(X))\n",
        "print(X[:,None].T.shape, a[:,None].shape)\n",
        "X[:,None].T @ a[:,None]\n"
      ]
    },
    {
      "cell_type": "markdown",
      "metadata": {
        "colab_type": "text",
        "id": "kmbbhfo9H09r"
      },
      "source": [
        "#### Test Example:"
      ]
    },
    {
      "cell_type": "code",
      "execution_count": null,
      "metadata": {
        "colab": {},
        "colab_type": "code",
        "id": "PxP3YP_eH09s"
      },
      "outputs": [
        {
          "name": "stdout",
          "output_type": "stream",
          "text": [
            "tensor(265421520)\n"
          ]
        }
      ],
      "source": [
        "np.random.seed(0)\n",
        "X = np.random.randint(-1000, 1000, size=3000)\n",
        "X = torch.from_numpy(X)\n",
        "Y = np.random.randint(-1000, 1000, size=3000)\n",
        "Y = torch.from_numpy(Y)\n",
        "\n",
        "print(tensor_sumproducts(X,Y))"
      ]
    },
    {
      "cell_type": "markdown",
      "metadata": {
        "colab_type": "text",
        "id": "CSJ_dJX4H09x"
      },
      "source": [
        "**Expected Output**: \n",
        "<table style = \"align:40%\">\n",
        "    <tr>\n",
        "        <td style=\"text-align:left;\"><tt><b> tensor_sumproducts(X,Y) </b></tt></td> \n",
        "        <td style=\"text-align:left;\"><tt> tensor(265421520) </tt></td> \n",
        "    </tr>\n",
        "</table>"
      ]
    },
    {
      "cell_type": "markdown",
      "metadata": {
        "colab_type": "text",
        "id": "WCsck6ZoH09x"
      },
      "source": [
        "---"
      ]
    },
    {
      "cell_type": "markdown",
      "metadata": {
        "colab_type": "text",
        "id": "AiWiQcYXH09y"
      },
      "source": [
        "### 4.4 Tensor ReLU\n",
        "\n",
        "In this task, you will implement the ReLU function for PyTorch Tensors.\n",
        "\n",
        "The function should take a tensor and calculate the ReLU function on each element.\n",
        "\n",
        "**Your Task**: Implement the function `tensor_ReLU`."
      ]
    },
    {
      "cell_type": "code",
      "execution_count": null,
      "metadata": {
        "colab": {},
        "colab_type": "code",
        "id": "T1IWCw0SH090"
      },
      "outputs": [],
      "source": [
        "def tensor_ReLU(x):\n",
        "    \"\"\"\n",
        "    Applies the rectified linear unit function element-wise.\n",
        "\n",
        "    Parameters: \n",
        "    x (torch.Tensor): 2-dimensional torch tensor.\n",
        "\n",
        "    Returns: \n",
        "    torch.Tensor: 2-dimensional torch tensor.\n",
        "    \"\"\"\n",
        "    \n",
        "    \n",
        "    return torch.relu(x)"
      ]
    },
    {
      "cell_type": "markdown",
      "metadata": {
        "colab_type": "text",
        "id": "r_iHaMocH093"
      },
      "source": [
        "#### Test Example:"
      ]
    },
    {
      "cell_type": "code",
      "execution_count": null,
      "metadata": {
        "colab": {},
        "colab_type": "code",
        "id": "pflbebVpH094"
      },
      "outputs": [
        {
          "name": "stdout",
          "output_type": "stream",
          "text": [
            "tensor([[  0,   0, 653,  ...,   0,   0,   0],\n",
            "        [  0,   0,   0,  ..., 988,   0,   0],\n",
            "        [265,   0, 608,  ..., 773, 961,   0],\n",
            "        ...,\n",
            "        [429, 102,   0,  ..., 467, 118,   0],\n",
            "        [532,  55,   0,  ..., 912, 779, 294],\n",
            "        [  0,  51,   0,  ...,   0,   0,   0]], dtype=torch.int32)\n"
          ]
        }
      ],
      "source": [
        "np.random.seed(0)\n",
        "X = np.random.randint(-1000, 1000, size=(1000,1000))\n",
        "X = torch.from_numpy(X)\n",
        "\n",
        "print(tensor_ReLU(X))"
      ]
    },
    {
      "cell_type": "markdown",
      "metadata": {
        "colab_type": "text",
        "id": "Sc50dKxXH097"
      },
      "source": [
        "**Expected Output**: \n",
        "<table style = \"align:40%\">\n",
        "    <tr>\n",
        "        <td style=\"text-align:left;\"><tt><b> tensor_ReLU(X) </b></tt></td> \n",
        "        <td style=\"text-align:left;\"><tt>\n",
        "            tensor([[&nbsp;&nbsp;0,&nbsp;&nbsp;&nbsp;0,&nbsp;653,&nbsp;&nbsp;...,&nbsp;&nbsp;&nbsp;0,&nbsp;&nbsp;&nbsp;0,&nbsp;&nbsp;&nbsp;0], <br>\n",
        "&nbsp;&nbsp;&nbsp;&nbsp;&nbsp;&nbsp;&nbsp;&nbsp;[&nbsp;&nbsp;0,&nbsp;&nbsp;&nbsp;0,&nbsp;&nbsp;&nbsp;0,&nbsp;&nbsp;...,&nbsp;988,&nbsp;&nbsp;&nbsp;0,&nbsp;&nbsp;&nbsp;0], <br>\n",
        "&nbsp;&nbsp;&nbsp;&nbsp;&nbsp;&nbsp;&nbsp;&nbsp;[265,&nbsp;&nbsp;&nbsp;0,&nbsp;608,&nbsp;&nbsp;...,&nbsp;773,&nbsp;961,&nbsp;&nbsp;&nbsp;0], <br>\n",
        "&nbsp;&nbsp;&nbsp;&nbsp;&nbsp;&nbsp;&nbsp;&nbsp;..., <br>\n",
        "&nbsp;&nbsp;&nbsp;&nbsp;&nbsp;&nbsp;&nbsp;&nbsp;[429,&nbsp;102,&nbsp;&nbsp;&nbsp;0,&nbsp;&nbsp;...,&nbsp;467,&nbsp;118,&nbsp;&nbsp;&nbsp;0], <br>\n",
        "&nbsp;&nbsp;&nbsp;&nbsp;&nbsp;&nbsp;&nbsp;&nbsp;[532,&nbsp;&nbsp;55,&nbsp;&nbsp;&nbsp;0,&nbsp;&nbsp;...,&nbsp;912,&nbsp;779,&nbsp;294], <br>\n",
        "&nbsp;&nbsp;&nbsp;&nbsp;&nbsp;&nbsp;&nbsp;&nbsp;[&nbsp;&nbsp;0,&nbsp;&nbsp;51,&nbsp;&nbsp;&nbsp;0,&nbsp;&nbsp;...,&nbsp;&nbsp;&nbsp;0,&nbsp;&nbsp;&nbsp;0,&nbsp;&nbsp;&nbsp;0]])\n",
        "        </tt></td> \n",
        "    </tr>\n",
        "</table>"
      ]
    },
    {
      "cell_type": "markdown",
      "metadata": {
        "colab_type": "text",
        "id": "1od3RO0-H098"
      },
      "source": [
        "---"
      ]
    },
    {
      "cell_type": "markdown",
      "metadata": {
        "colab_type": "text",
        "id": "-2pxPogxH098"
      },
      "source": [
        "### 4.5 Tensor ReLU Prime\n",
        "\n",
        "In this task, you will implement the ReLU Prime function for PyTorch Tensors.\n",
        "\n",
        "The function should take a tensor and calculate the derivative of the ReLU function on each element.\n",
        "\n",
        "**Your Task:** Implement the function `tensor_ReLU_prime`."
      ]
    },
    {
      "cell_type": "code",
      "execution_count": null,
      "metadata": {
        "colab": {},
        "colab_type": "code",
        "id": "13bvgDPaH098"
      },
      "outputs": [],
      "source": [
        "def tensor_ReLU_prime(x):\n",
        "    \"\"\"\n",
        "    Applies derivative of the rectified linear unit function \n",
        "    element-wise.\n",
        "\n",
        "    Parameters: \n",
        "    x (torch.Tensor): 2-dimensional torch tensor.\n",
        "\n",
        "    Returns: \n",
        "    torch.Tensor: 2-dimensional torch tensor.\n",
        "    \"\"\"\n",
        "   \n",
        "\n",
        "    return torch.where(x >1, 1, 0)"
      ]
    },
    {
      "cell_type": "markdown",
      "metadata": {
        "colab_type": "text",
        "id": "6l9M-jvJH09-"
      },
      "source": [
        "#### Test Example:"
      ]
    },
    {
      "cell_type": "code",
      "execution_count": null,
      "metadata": {
        "colab": {},
        "colab_type": "code",
        "id": "rxGXh92JH09_"
      },
      "outputs": [
        {
          "name": "stdout",
          "output_type": "stream",
          "text": [
            "tensor([[0, 0, 1,  ..., 0, 0, 0],\n",
            "        [0, 0, 0,  ..., 1, 0, 0],\n",
            "        [1, 0, 1,  ..., 1, 1, 0],\n",
            "        ...,\n",
            "        [1, 1, 0,  ..., 1, 1, 0],\n",
            "        [1, 1, 0,  ..., 1, 1, 1],\n",
            "        [0, 1, 0,  ..., 0, 0, 0]])\n"
          ]
        }
      ],
      "source": [
        "np.random.seed(0)\n",
        "X = np.random.randint(-1000, 1000, size=(1000,1000))\n",
        "X = torch.from_numpy(X)\n",
        "\n",
        "print(tensor_ReLU_prime(X))"
      ]
    },
    {
      "cell_type": "markdown",
      "metadata": {
        "colab_type": "text",
        "id": "QzLTFVGLH0-C"
      },
      "source": [
        "**Expected Output**: \n",
        "<table style = \"align:40%\">\n",
        "    <tr>\n",
        "        <td style=\"text-align:left;\"><tt><b> tensor_ReLU_prime(X) </b></tt></td> \n",
        "        <td style=\"text-align:left;\"><tt>\n",
        "            tensor([[0,&nbsp;0,&nbsp;1,&nbsp;&nbsp;...,&nbsp;0,&nbsp;0,&nbsp;0], <br>\n",
        "&nbsp;&nbsp;&nbsp;&nbsp;&nbsp;&nbsp;&nbsp;&nbsp;[0,&nbsp;0,&nbsp;0,&nbsp;&nbsp;...,&nbsp;1,&nbsp;0,&nbsp;0], <br>\n",
        "&nbsp;&nbsp;&nbsp;&nbsp;&nbsp;&nbsp;&nbsp;&nbsp;[1,&nbsp;0,&nbsp;1,&nbsp;&nbsp;...,&nbsp;1,&nbsp;1,&nbsp;0], <br>\n",
        "&nbsp;&nbsp;&nbsp;&nbsp;&nbsp;&nbsp;&nbsp;&nbsp;..., <br>\n",
        "&nbsp;&nbsp;&nbsp;&nbsp;&nbsp;&nbsp;&nbsp;&nbsp;[1,&nbsp;1,&nbsp;0,&nbsp;&nbsp;...,&nbsp;1,&nbsp;1,&nbsp;0], <br>\n",
        "&nbsp;&nbsp;&nbsp;&nbsp;&nbsp;&nbsp;&nbsp;&nbsp;[1,&nbsp;1,&nbsp;0,&nbsp;&nbsp;...,&nbsp;1,&nbsp;1,&nbsp;1], <br>\n",
        "&nbsp;&nbsp;&nbsp;&nbsp;&nbsp;&nbsp;&nbsp;&nbsp;[0,&nbsp;1,&nbsp;0,&nbsp;&nbsp;...,&nbsp;0,&nbsp;0,&nbsp;0]])\n",
        "        </tt></td> \n",
        "    </tr>\n",
        "</table>"
      ]
    }
  ],
  "metadata": {
    "colab": {
      "collapsed_sections": [
        "b4Xi1ljNH08w",
        "aeNQXTzNH08z",
        "_LXr_8xCH089"
      ],
      "name": "hw1.ipynb",
      "provenance": []
    },
    "kernelspec": {
      "display_name": "Python 3.10.4 ('venv': venv)",
      "language": "python",
      "name": "python3"
    },
    "language_info": {
      "codemirror_mode": {
        "name": "ipython",
        "version": 3
      },
      "file_extension": ".py",
      "mimetype": "text/x-python",
      "name": "python",
      "nbconvert_exporter": "python",
      "pygments_lexer": "ipython3",
      "version": "3.10.4"
    },
    "vscode": {
      "interpreter": {
        "hash": "7037ec29b621de18a3396a0455ec45ad55ce896f0aa235683271d94d3867e1de"
      }
    }
  },
  "nbformat": 4,
  "nbformat_minor": 0
}
